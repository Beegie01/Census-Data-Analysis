{
 "cells": [
  {
   "cell_type": "code",
   "execution_count": null,
   "id": "201737ac",
   "metadata": {},
   "outputs": [],
   "source": [
    "import copy\n",
    "import seaborn as sns\n",
    "from seaborn.utils import np, plt, pd, os"
   ]
  },
  {
   "cell_type": "code",
   "execution_count": null,
   "id": "c4ce9faa",
   "metadata": {},
   "outputs": [],
   "source": [
    "my_pkg = \"..//Presentation\"\n",
    "imp_mods = os.sys.path \n",
    "if my_pkg not in imp_mods:\n",
    "    imp_mods.append(my_pkg)\n",
    "    print(\"Imported successfully\")"
   ]
  },
  {
   "cell_type": "code",
   "execution_count": null,
   "id": "efe8db4c",
   "metadata": {},
   "outputs": [],
   "source": [
    "from census_methods import CensusDataset as cd "
   ]
  },
  {
   "cell_type": "code",
   "execution_count": null,
   "id": "5fc83d03",
   "metadata": {
    "scrolled": true
   },
   "outputs": [],
   "source": [
    "os.listdir()"
   ]
  },
  {
   "cell_type": "code",
   "execution_count": null,
   "id": "27c91577",
   "metadata": {
    "scrolled": true
   },
   "outputs": [],
   "source": [
    "census_df = pd.read_csv('final_Marital_Status_and_Religion_cleaned.csv')"
   ]
  },
  {
   "cell_type": "code",
   "execution_count": null,
   "id": "a7464ff2",
   "metadata": {},
   "outputs": [],
   "source": [
    "census_df.info()"
   ]
  },
  {
   "cell_type": "code",
   "execution_count": null,
   "id": "3871402e",
   "metadata": {},
   "outputs": [],
   "source": [
    "census_df.head()"
   ]
  },
  {
   "cell_type": "markdown",
   "id": "baa24786",
   "metadata": {},
   "source": [
    "## Descriptive Statistics"
   ]
  },
  {
   "cell_type": "code",
   "execution_count": null,
   "id": "e4f1ffb4",
   "metadata": {},
   "outputs": [],
   "source": [
    "census_df.describe().transpose()"
   ]
  },
  {
   "cell_type": "code",
   "execution_count": null,
   "id": "09ad4141",
   "metadata": {},
   "outputs": [],
   "source": [
    "census_df.describe(include='object').transpose()"
   ]
  },
  {
   "cell_type": "markdown",
   "id": "16aba8d2",
   "metadata": {},
   "source": [
    "___"
   ]
  },
  {
   "cell_type": "markdown",
   "id": "2e4fa4ef",
   "metadata": {},
   "source": [
    "___"
   ]
  },
  {
   "cell_type": "markdown",
   "id": "f693a898",
   "metadata": {},
   "source": [
    "## RESIDENCY DETAILS:"
   ]
  },
  {
   "cell_type": "markdown",
   "id": "0a4645df",
   "metadata": {},
   "source": [
    "#### Number of Streets"
   ]
  },
  {
   "cell_type": "code",
   "execution_count": null,
   "id": "2c7f43e4",
   "metadata": {},
   "outputs": [],
   "source": [
    "census_df['Street'].unique().shape[0]"
   ]
  },
  {
   "cell_type": "markdown",
   "id": "9bb30b12",
   "metadata": {},
   "source": [
    "#### Total Number of Houses"
   ]
  },
  {
   "cell_type": "code",
   "execution_count": null,
   "id": "cc950976",
   "metadata": {},
   "outputs": [],
   "source": [
    "houses_in_the_city = census_df['Address'].unique().shape[0]\n",
    "houses_in_the_city"
   ]
  },
  {
   "cell_type": "markdown",
   "id": "e1447c32",
   "metadata": {},
   "source": [
    "#### Number of Houses per resident\n",
    "Houses per 1000 resident = (Total population/Total number of houses) * 1000<br>\n",
    "Number of houses available per 1000 residents"
   ]
  },
  {
   "cell_type": "code",
   "execution_count": null,
   "id": "d7723338",
   "metadata": {},
   "outputs": [],
   "source": [
    "print(f\"There are {1000 * houses_in_the_city/census_df.shape[0]:.0f} houses for each 1000 resident\")"
   ]
  },
  {
   "cell_type": "markdown",
   "id": "13871f6f",
   "metadata": {},
   "source": [
    "#### House Occupancy Level\n",
    "Occupancy level = Total Population/Number of Houses"
   ]
  },
  {
   "cell_type": "code",
   "execution_count": null,
   "id": "bff130da",
   "metadata": {},
   "outputs": [],
   "source": [
    "occupancy_lvl = census_df.shape[0]/houses_in_the_city\n",
    "print(f\"Houses are occupied at rate of {occupancy_lvl:.0f} occupants per house\")"
   ]
  },
  {
   "cell_type": "markdown",
   "id": "27286e50",
   "metadata": {},
   "source": [
    "#### Number of Occupants per House Address"
   ]
  },
  {
   "cell_type": "code",
   "execution_count": null,
   "id": "df117f79",
   "metadata": {},
   "outputs": [],
   "source": [
    "house_occupancy = census_df['Address'].value_counts()\n",
    "house_occupancy"
   ]
  },
  {
   "cell_type": "code",
   "execution_count": null,
   "id": "28d5452b",
   "metadata": {},
   "outputs": [],
   "source": [
    "one_occup_house = house_occupancy.loc[house_occupancy <= 1]\n",
    "one_occup_house"
   ]
  },
  {
   "cell_type": "code",
   "execution_count": null,
   "id": "fc42c5f4",
   "metadata": {},
   "outputs": [],
   "source": [
    "two_occup_house = house_occupancy.loc[house_occupancy <= 2]\n",
    "two_occup_house"
   ]
  },
  {
   "cell_type": "code",
   "execution_count": null,
   "id": "24914c11",
   "metadata": {
    "scrolled": true
   },
   "outputs": [],
   "source": [
    "print(f\"There {one_occup_house.shape[0]} houses having only one occupant.\\n\" +\\\n",
    "      f\"{100 * one_occup_house.shape[0]/house_occupancy.shape[0]:.2f}% of total number of houses\")"
   ]
  },
  {
   "cell_type": "code",
   "execution_count": null,
   "id": "bed0aedf",
   "metadata": {
    "scrolled": true
   },
   "outputs": [],
   "source": [
    "print(f\"There {two_occup_house.shape[0]} houses having only two occupants.\\n\" +\\\n",
    "      f\"{100 * two_occup_house.shape[0]/house_occupancy.shape[0]:.2f}% of total number of houses\")"
   ]
  },
  {
   "cell_type": "code",
   "execution_count": null,
   "id": "4eb79971",
   "metadata": {},
   "outputs": [],
   "source": [
    "two_occup_house = house_occupancy.loc[house_occupancy == 2]\n",
    "two_occup_house"
   ]
  },
  {
   "cell_type": "code",
   "execution_count": null,
   "id": "dbe49935",
   "metadata": {},
   "outputs": [],
   "source": [
    "print(f\"There {house_occupancy.shape[0] - one_occup_house.shape[0]} houses having only one occupant.\\n\" +\\\n",
    "      f\"{100 * (1 - (one_occup_house.shape[0]/house_occupancy.shape[0])):.2f}% of total number of houses\")"
   ]
  },
  {
   "cell_type": "code",
   "execution_count": null,
   "id": "bc8d9764",
   "metadata": {},
   "outputs": [],
   "source": [
    "two_occup_house.sum()"
   ]
  },
  {
   "cell_type": "code",
   "execution_count": null,
   "id": "3487d48d",
   "metadata": {},
   "outputs": [],
   "source": [
    "two_occup_house = house_occupancy.loc[house_occupancy == 2]\n",
    "two_occup_house"
   ]
  },
  {
   "cell_type": "code",
   "execution_count": null,
   "id": "36d16c5c",
   "metadata": {},
   "outputs": [],
   "source": [
    "house_occupancy.loc[house_occupancy == 3].sum()"
   ]
  },
  {
   "cell_type": "code",
   "execution_count": null,
   "id": "ce9ca775",
   "metadata": {},
   "outputs": [],
   "source": [
    "house_occupancy.loc[house_occupancy == 4].sum()"
   ]
  },
  {
   "cell_type": "code",
   "execution_count": null,
   "id": "7b76190c",
   "metadata": {},
   "outputs": [],
   "source": [
    "house_occupancy.loc[house_occupancy == 5].sum()"
   ]
  },
  {
   "cell_type": "code",
   "execution_count": null,
   "id": "cbcd9741",
   "metadata": {},
   "outputs": [],
   "source": [
    "house_occupancy.loc[house_occupancy == 6].sum()"
   ]
  },
  {
   "cell_type": "code",
   "execution_count": null,
   "id": "79e0b0e0",
   "metadata": {
    "scrolled": true
   },
   "outputs": [],
   "source": [
    "house_occupancy.loc[house_occupancy == 7].sum()"
   ]
  },
  {
   "cell_type": "code",
   "execution_count": null,
   "id": "c177b969",
   "metadata": {
    "scrolled": true
   },
   "outputs": [],
   "source": [
    "house_occupancy.loc[house_occupancy == 8].sum()"
   ]
  },
  {
   "cell_type": "code",
   "execution_count": null,
   "id": "2b162ba4",
   "metadata": {},
   "outputs": [],
   "source": [
    "house_occupancy.loc[house_occupancy == 9].sum()"
   ]
  },
  {
   "cell_type": "code",
   "execution_count": null,
   "id": "022714a2",
   "metadata": {},
   "outputs": [],
   "source": [
    "house_occupancy.loc[house_occupancy > 5 ].sum()"
   ]
  },
  {
   "cell_type": "code",
   "execution_count": null,
   "id": "b16e40c6",
   "metadata": {},
   "outputs": [],
   "source": [
    "house_occupancy_freq = house_occupancy.value_counts().sort_index()\n",
    "# house_occupancy_freq.columns = house_occupancy_freq.columns.str.replace(\"Address\", \"House Count (%)\").str.replace(\"index\", \"Occupant Count\")\n",
    "house_occupancy_freq"
   ]
  },
  {
   "cell_type": "code",
   "execution_count": null,
   "id": "ed5cef9a",
   "metadata": {},
   "outputs": [],
   "source": [
    "dd = house_occupancy_freq.loc[house_occupancy_freq.index > 5] * np.array(house_occupancy_freq.loc[house_occupancy_freq.index > 5].index)\n",
    "dd.sum()"
   ]
  },
  {
   "cell_type": "code",
   "execution_count": null,
   "id": "91fffabf",
   "metadata": {},
   "outputs": [],
   "source": [
    "house_occupancy.loc[house_occupancy == 2]"
   ]
  },
  {
   "cell_type": "code",
   "execution_count": null,
   "id": "5129027f",
   "metadata": {},
   "outputs": [],
   "source": [
    "census_df.loc[census_df['Address'].isin(house_occupancy.loc[house_occupancy == 2].index)]"
   ]
  },
  {
   "cell_type": "code",
   "execution_count": null,
   "id": "6fef48d9",
   "metadata": {},
   "outputs": [],
   "source": [
    "house_occupancy_perc = np.round(100 * house_occupancy_freq/house_occupancy_freq.sum(), 2)#.reset_index()\n",
    "# house_occupancy_perc.columns = house_occupancy_perc.columns.str.replace(\"Address\", \"House Count (%)\").str.replace(\"index\", \"Occupant Count\")\n",
    "house_occupancy_perc"
   ]
  },
  {
   "cell_type": "code",
   "execution_count": null,
   "id": "59fe4ffe",
   "metadata": {},
   "outputs": [],
   "source": [
    "above_5_perc = house_occupancy_perc.loc[house_occupancy_perc > 5]\n",
    "above_5_perc"
   ]
  },
  {
   "cell_type": "code",
   "execution_count": null,
   "id": "b7194476",
   "metadata": {},
   "outputs": [],
   "source": [
    "below_6_perc = house_occupancy_perc.loc[~house_occupancy_perc.index.isin(above_5_perc.index)]\n",
    "below_6_perc"
   ]
  },
  {
   "cell_type": "code",
   "execution_count": null,
   "id": "e23ed36e",
   "metadata": {},
   "outputs": [],
   "source": [
    "sns.set_style(style='whitegrid')\n",
    "fig = plt.figure(figsize=(6, 4), dpi=200)\n",
    "ax1, zoomed = fig.add_axes([0, 0, 1, 1]), fig.add_axes([1.09, 0.4, 0.6, 0.6])\n",
    "\n",
    "abax = sns.barplot(x=above_5_perc.index, y=above_5_perc,\n",
    "           color='green', ax=ax1)\n",
    "\n",
    "beax = sns.barplot(x=below_6_perc.index, y=below_6_perc,\n",
    "           color='red', ax=zoomed)\n",
    "\n",
    "zoomed.set_xticklabels(zoomed.get_xticklabels(), size=6)\n",
    "\n",
    "for i, lab in enumerate(above_5_perc.index):\n",
    "    ax1.text(i-0.25, above_5_perc[lab]+0.25, f\"{house_occupancy_freq[lab]} ({above_5_perc[lab]}%)\",\n",
    "            size=10, weight='bold')\n",
    "\n",
    "for i, lab in enumerate(below_6_perc.index):\n",
    "    zoomed.text(i, below_6_perc[lab]+0.05, f\"{house_occupancy_freq[lab]} ({below_6_perc[lab]}%)\",\n",
    "            size=8, rotation=50, weight='bold')\n",
    "\n",
    "ax1.set_ylabel(\"Number of Houses (in %)\"), ax1.set_xlabel(\"Number of Occupants\")\n",
    "zoomed.set_ylabel(\"Number of Houses (in %)\", size=7), zoomed.set_xlabel(\"Number of Occupants\", size=7)\n",
    "\n",
    "zoomed.text(2, 3, \"Number of houses with more than 5 Occupants\", color='white', size=8,\n",
    "           bbox={'edgecolor':'none', 'facecolor':'red'},\n",
    "           weight='bold')\n",
    "\n",
    "ax1.text(0.9, 38, \"Number of houses with 5 Occupants or less\", color='white', size=12,\n",
    "           bbox={'edgecolor':'none', 'facecolor':'green'},\n",
    "           weight='bold')\n",
    "zoomed.set_ylim(top=3), zoomed.set_xlim(right=13)\n",
    "ax1.set_ylim(top=40)\n",
    "\n",
    "ax1.set_title(\"Percentage Number of Houses per Occupancy Level\", weight='bold', \n",
    "              y=1.05, size=15)"
   ]
  },
  {
   "cell_type": "code",
   "execution_count": null,
   "id": "f6cac590",
   "metadata": {},
   "outputs": [],
   "source": [
    "fname = 'percentage_occupancy_level.png'\n",
    "cd.fig_writer(fname, fig)"
   ]
  },
  {
   "cell_type": "markdown",
   "id": "b9227426",
   "metadata": {},
   "source": [
    "#### Distribution of the number of people per house address"
   ]
  },
  {
   "cell_type": "code",
   "execution_count": null,
   "id": "3a335bad",
   "metadata": {},
   "outputs": [],
   "source": [
    "q1, q3 = np.int_(np.percentile(house_occupancy, [25, 75]))\n",
    "iqr = q3 - q1\n",
    "print(f\"Q1: {q1}, Q3: {q3}\\nIQR: {iqr}\")"
   ]
  },
  {
   "cell_type": "code",
   "execution_count": null,
   "id": "0c26d5ff",
   "metadata": {},
   "outputs": [],
   "source": [
    "iqr_coeff = iqr * 1.5\n",
    "low_lim, upp_lim = np.int_([q1 - iqr_coeff, q3 + iqr_coeff])\n",
    "print(low_lim, upp_lim)"
   ]
  },
  {
   "cell_type": "code",
   "execution_count": null,
   "id": "d6a3cc60",
   "metadata": {
    "scrolled": false
   },
   "outputs": [],
   "source": [
    "sns.set_style(style='darkgrid')\n",
    "fig = plt.figure(figsize=(3, 4), dpi=200)\n",
    "\n",
    "bplot = sns.boxplot(y=house_occupancy)#, x=house_occupancy)\n",
    "bplot.set_title(\"Box Plot Showing Number of People per House Address\", fontsize=10)\n",
    "\n",
    "bplot.text(0.1, 9, f\"Houses of more than {upp_lim}\\n occupants are outliers\",\n",
    "           fontsize=5, fontweight='bold', color='blue',\n",
    "            bbox={'edgecolor':'red', 'facecolor': 'white', 'alpha': 0.3});"
   ]
  },
  {
   "cell_type": "markdown",
   "id": "64811d24",
   "metadata": {},
   "source": [
    "Based on the above statistics and box plot, ***normally 8 or less occupants should live in a house.***<br>\n",
    "Therefore, I shall be using this figure as my threshold to determine where a house is over-populated."
   ]
  },
  {
   "cell_type": "code",
   "execution_count": null,
   "id": "5979af38",
   "metadata": {},
   "outputs": [],
   "source": [
    "overpopulated_houses = house_occupancy.loc[house_occupancy > 8]\n",
    "overpopulated_houses"
   ]
  },
  {
   "cell_type": "code",
   "execution_count": null,
   "id": "c08c0dbd",
   "metadata": {},
   "outputs": [],
   "source": [
    "normal_occup_lvl = house_occupancy.loc[~house_occupancy.index.isin(overpopulated_houses.index)]\n",
    "normal_occup_lvl"
   ]
  },
  {
   "cell_type": "code",
   "execution_count": null,
   "id": "45c3e8fc",
   "metadata": {},
   "outputs": [],
   "source": [
    "overpopulated_houses.shape[0], normal_occup_lvl.shape[0]"
   ]
  },
  {
   "cell_type": "code",
   "execution_count": null,
   "id": "05958a0f",
   "metadata": {},
   "outputs": [],
   "source": [
    "sns.set_style(style='darkgrid')\n",
    "fig = plt.figure(figsize=(6, 4), dpi=200)\n",
    "\n",
    "outl = sns.barplot(x=overpopulated_houses, y=overpopulated_houses.index, color='darkblue')\n",
    "outl.set_title(f\"{overpopulated_houses.shape[0]} Over-populated Houses (With Above 8 Occupants)\", \n",
    "               fontsize=12, fontweight='bold')\n",
    "\n",
    "outl.set_yticklabels(outl.get_yticklabels(), fontsize=4)\n",
    "outl.set_xlabel(\"Number of Occupants\"), outl.set_ylabel(\"House\")\n",
    "\n",
    "for i in range(overpopulated_houses.shape[0]):\n",
    "    outl.text(overpopulated_houses[i]+0.15, i, overpopulated_houses[i], fontweight='bold',\n",
    "             fontsize=4);"
   ]
  },
  {
   "cell_type": "markdown",
   "id": "2e34947d",
   "metadata": {},
   "source": [
    "#### Median Number of Occupants per House Address"
   ]
  },
  {
   "cell_type": "code",
   "execution_count": null,
   "id": "396ee678",
   "metadata": {},
   "outputs": [],
   "source": [
    "median_occup = np.round(house_occupancy.median(), decimals=0)\n",
    "print(\"The median number of people per house is {:.0f}\".format(median_occup))"
   ]
  },
  {
   "cell_type": "markdown",
   "id": "7713c396",
   "metadata": {},
   "source": [
    "#### Average Number of Occupants per House Address"
   ]
  },
  {
   "cell_type": "code",
   "execution_count": null,
   "id": "8c861d64",
   "metadata": {},
   "outputs": [],
   "source": [
    "average_occup = np.round(house_occupancy.mean(), 0)\n",
    "print(\"The Average number of people living in a house is {:.0f}\".format(average_occup))"
   ]
  },
  {
   "cell_type": "code",
   "execution_count": null,
   "id": "2dee5367",
   "metadata": {},
   "outputs": [],
   "source": []
  },
  {
   "cell_type": "markdown",
   "id": "550acc88",
   "metadata": {},
   "source": [
    "#### Number of houses per Street"
   ]
  },
  {
   "cell_type": "code",
   "execution_count": null,
   "id": "39fb5913",
   "metadata": {},
   "outputs": [],
   "source": [
    "# remove duplicate addresses - gives us an of instance unique addresses\n",
    "# drop the address column\n",
    "# count the house numbers\n",
    "street_housing = census_df[['Street', 'House Number', 'Address']].drop_duplicates(subset=['Address']).drop(['Address'], axis=1).groupby(by=['Street']).count().sort_values(by=['House Number', 'Street'], ascending=[False, False])\n",
    "street_housing.columns = street_housing.columns.astype(sns.utils.np.str_).str.replace('House Number', 'Number of Houses')\n",
    "street_housing"
   ]
  },
  {
   "cell_type": "code",
   "execution_count": null,
   "id": "e0b562fa",
   "metadata": {
    "scrolled": true
   },
   "outputs": [],
   "source": [
    "# Top fifteen streets with the highest number of houses\n",
    "top_15 = street_housing.iloc[:15].reset_index()\n",
    "top_15"
   ]
  },
  {
   "cell_type": "code",
   "execution_count": null,
   "id": "82185806",
   "metadata": {
    "scrolled": false
   },
   "outputs": [],
   "source": [
    "# Top ten streets with the least number of houses\n",
    "least_15 = street_housing.loc[street_housing['Number of Houses'].between(1, 10)].tail(20).reset_index()\n",
    "least_15"
   ]
  },
  {
   "cell_type": "code",
   "execution_count": null,
   "id": "742e33e4",
   "metadata": {},
   "outputs": [],
   "source": [
    "sns.set_style(style='darkgrid')\n",
    "fig = plt.figure(figsize=(8, 4), dpi=200)\n",
    "t, b = fig.add_axes([0, 0, 0.9, 0.6]), fig.add_axes([0, 1.05, 0.9, 0.6])\n",
    "\n",
    "t15 = sns.barplot(data=top_15, y='Number of Houses', x='Street', hue='Number of Houses', \n",
    "                  color='darkblue', ax=t)\n",
    "b15 = sns.barplot(data=least_15, y='Number of Houses', x='Street', hue='Number of Houses', \n",
    "                  color='darkblue', ax=b)\n",
    "# l5 = sns.barplot(x=last_top['Number of Houses'], y=last_top['Street'], color='grey')\n",
    "\n",
    "t15.legend().remove(), b15.legend().remove()\n",
    "\n",
    "# sns.utils.plt.yticks(ticks=list(range(top_15['Street'].shape[0])), labels=top_15['Street'].to_list())\n",
    "# sns.utils.move_legend(t15, (1.02, 0))\n",
    "# sns.utils.move_legend(b15, (1.02, 0))\n",
    "\n",
    "t15.set_xticklabels(t15.get_xticklabels(), rotation=90)\n",
    "b15.set_xticklabels(b15.get_xticklabels(), rotation=90);"
   ]
  },
  {
   "cell_type": "markdown",
   "id": "ddbb818e",
   "metadata": {},
   "source": [
    "#### Occupants per Street"
   ]
  },
  {
   "cell_type": "code",
   "execution_count": null,
   "id": "24046abf",
   "metadata": {},
   "outputs": [],
   "source": [
    "street_occupancy = census_df['Street'].value_counts()\n",
    "street_occupancy"
   ]
  },
  {
   "cell_type": "code",
   "execution_count": null,
   "id": "e22e201e",
   "metadata": {},
   "outputs": [],
   "source": [
    "sns.set_style(style='darkgrid')\n",
    "fig = plt.figure(figsize=(10, 6), dpi=200)\n",
    "\n",
    "plotter = sns.barplot(x=street_occupancy.index, y=street_occupancy, color='darkblue')\n",
    "plotter.set_xticklabels(plotter.get_xticklabels(), rotation=90, fontsize=5)\n",
    "\n",
    "plotter.set_title(\"Number of Occupants per Street\")\n",
    "\n",
    "for i in range(street_occupancy.shape[0]):\n",
    "    plotter.text(i, street_occupancy[i]+1, street_occupancy[i],\n",
    "                fontweight='bold', fontsize='xx-small', rotation=90);"
   ]
  },
  {
   "cell_type": "code",
   "execution_count": null,
   "id": "d5293c5c",
   "metadata": {},
   "outputs": [],
   "source": [
    "street_occupancy = street_occupancy.reset_index()\n",
    "street_occupancy.columns = street_occupancy.columns.astype(sns.utils.np.str_).str.replace('Street', 'Occupants').str.replace('index', 'Street')\n",
    "street_occupancy"
   ]
  },
  {
   "cell_type": "code",
   "execution_count": null,
   "id": "76f3d36e",
   "metadata": {},
   "outputs": [],
   "source": [
    "ave_occup = street_occupancy['Occupants'].mean()\n",
    "print(f\"Average number of occupants: {ave_occup: .0f}\")"
   ]
  },
  {
   "cell_type": "code",
   "execution_count": null,
   "id": "7046d099",
   "metadata": {},
   "outputs": [],
   "source": [
    "median_occup = street_occupancy['Occupants'].median()\n",
    "print(f\"Median number of occupants: {median_occup: .0f}\")"
   ]
  },
  {
   "cell_type": "code",
   "execution_count": null,
   "id": "2350bc49",
   "metadata": {},
   "outputs": [],
   "source": [
    "q1, q3 = street_occupancy['Occupants'].quantile(.25), street_occupancy['Occupants'].quantile(.75)\n",
    "iqr = q3 - q1\n",
    "print(\"Q1: {}\\nQ3: {}\\nIQR: {}\".format(q1, q3, iqr))"
   ]
  },
  {
   "cell_type": "code",
   "execution_count": null,
   "id": "0398851d",
   "metadata": {
    "scrolled": true
   },
   "outputs": [],
   "source": [
    "# outlier = ave +/- (1.5 * iqr)\n",
    "iqr_coeff = 1.5 * iqr\n",
    "llim = q1 - iqr_coeff\n",
    "ulim = q3 + iqr_coeff\n",
    "print(\"Outliers for Occupancy levels is \\n\" +\n",
    "      f\"number of occupants below {llim: .0f} or above {ulim: .0f}\")"
   ]
  },
  {
   "cell_type": "code",
   "execution_count": null,
   "id": "0ecef3fc",
   "metadata": {
    "scrolled": false
   },
   "outputs": [],
   "source": [
    "sns.set_style(style='darkgrid')\n",
    "fig = plt.figure(figsize=(4, 4), dpi=200)\n",
    "\n",
    "bxplot = sns.boxplot(y=street_occupancy['Occupants'])\n",
    "bxplot.set_title(\"Box plot Showing the Distribution of Number of Occupants per Street\")\n",
    "\n",
    "bxplot.set_ylabel(\"Number of Occupants\")\n",
    "\n",
    "bxplot.text(0.1, 284, f\"Streets containing above {ulim: .0f} houses \\nare considered to be Outliers\",\n",
    "           fontsize=5, fontweight='bold',\n",
    "            bbox={'edgecolor':'red', 'facecolor': 'white', 'alpha': 0.3})"
   ]
  },
  {
   "cell_type": "code",
   "execution_count": null,
   "id": "eedada0a",
   "metadata": {},
   "outputs": [],
   "source": [
    "# values that are 2 standard deviations above or below the median number of occupants\n",
    "# shall be considered to be outliers\n",
    "threshold_num_houses = (llim, ulim)\n",
    "print(threshold_num_houses)"
   ]
  },
  {
   "cell_type": "code",
   "execution_count": null,
   "id": "501db279",
   "metadata": {},
   "outputs": [],
   "source": [
    "outliers = street_occupancy.loc[street_occupancy['Occupants'] > ulim]\n",
    "outliers"
   ]
  },
  {
   "cell_type": "code",
   "execution_count": null,
   "id": "c3d1be33",
   "metadata": {},
   "outputs": [],
   "source": [
    "non_outliers = street_occupancy.loc[~(street_occupancy['Occupants'] > ulim)]\n",
    "non_outliers"
   ]
  },
  {
   "cell_type": "code",
   "execution_count": null,
   "id": "e373e4e2",
   "metadata": {},
   "outputs": [],
   "source": [
    "sns.set_style(style='darkgrid')\n",
    "fig = plt.figure(figsize=(10, 6), dpi=200)\n",
    "ax1 = fig.add_axes([0, 0, 1, 1])\n",
    "\n",
    "extr = sns.barplot(x=outliers.index, y=outliers['Occupants'], color='red', ax=ax1)\n",
    "ax2 = ax1.twinx()\n",
    "nextr = sns.barplot(x=non_outliers.index, y=non_outliers['Occupants'], color='green', ax=ax2)\n",
    "\n",
    "ax1.set_xticklabels(ax1.get_xticklabels(), rotation=90, fontsize=5)\n",
    "\n",
    "ax1.set_title(\"Number of Occupants per Street\")\n",
    "\n",
    "# for i in range(street_occupancy.shape[0]):\n",
    "#     ax1.text(i, street_occupancy['Occupants'][i]+1, street_occupancy['Occupants'][i],\n",
    "#                 fontweight='bold', fontsize='xx-small', rotation=90);"
   ]
  },
  {
   "cell_type": "markdown",
   "id": "640c4f72",
   "metadata": {},
   "source": [
    "#### Number of Families in the city"
   ]
  },
  {
   "cell_type": "code",
   "execution_count": null,
   "id": "7a655ea0",
   "metadata": {},
   "outputs": [],
   "source": [
    "census_df['Surname'].unique().shape[0]"
   ]
  },
  {
   "cell_type": "markdown",
   "id": "5443ad25",
   "metadata": {},
   "source": [
    "#### Size of Each Family"
   ]
  },
  {
   "cell_type": "markdown",
   "id": "537c5843",
   "metadata": {},
   "source": [
    "#### Number of Occupants per House Address"
   ]
  },
  {
   "cell_type": "code",
   "execution_count": null,
   "id": "e7b730d2",
   "metadata": {},
   "outputs": [],
   "source": [
    "family_members = census_df[['Address', 'Surname', 'First Name']].groupby(by=['Address', 'Surname']).count().reset_index()\n",
    "family_members.columns = family_members.columns.astype(np.str_).str.replace('First Name', 'Count')\n",
    "family_members = family_members.sort_values('Count', ascending=False)\n",
    "family_members"
   ]
  },
  {
   "cell_type": "code",
   "execution_count": null,
   "id": "64b98423",
   "metadata": {
    "scrolled": true
   },
   "outputs": [],
   "source": [
    "family_members.loc[family_members['Surname'] == 'Smith']"
   ]
  },
  {
   "cell_type": "code",
   "execution_count": null,
   "id": "89581525",
   "metadata": {},
   "outputs": [],
   "source": [
    "census_df.loc[census_df['Address'] == '23, James Views']"
   ]
  },
  {
   "cell_type": "markdown",
   "id": "c1f0cb12",
   "metadata": {},
   "source": [
    "#### Number of Households per Address"
   ]
  },
  {
   "cell_type": "code",
   "execution_count": null,
   "id": "7bc35c75",
   "metadata": {},
   "outputs": [],
   "source": [
    "households_per_address = census_df.loc[census_df['Relationship to Head of House'] == 'Head', ['Relationship to Head of House', 'Address']].value_counts().reset_index()\n",
    "households_per_address.columns = households_per_address.columns.astype(np.str_).str.replace('0', 'Number of Households')"
   ]
  },
  {
   "cell_type": "code",
   "execution_count": null,
   "id": "32f62b51",
   "metadata": {},
   "outputs": [],
   "source": [
    "households_per_address"
   ]
  },
  {
   "cell_type": "code",
   "execution_count": null,
   "id": "07c1773d",
   "metadata": {},
   "outputs": [],
   "source": [
    "multiple_heads = households_per_address.loc[households_per_address['Number of Households'] > 1]\n",
    "multiple_heads"
   ]
  },
  {
   "cell_type": "code",
   "execution_count": null,
   "id": "a81c349d",
   "metadata": {},
   "outputs": [],
   "source": [
    "census_df.loc[census_df['Address'] == multiple_heads['Address'].values[0]]"
   ]
  },
  {
   "cell_type": "code",
   "execution_count": null,
   "id": "3b3e25e5",
   "metadata": {},
   "outputs": [],
   "source": [
    "multiple_heads['Address'].str[4:].values[0]"
   ]
  },
  {
   "cell_type": "code",
   "execution_count": null,
   "id": "f013ac4e",
   "metadata": {
    "scrolled": true
   },
   "outputs": [],
   "source": [
    "# occupants of Leonard Mews street\n",
    "census_df.loc[census_df['Street'] == multiple_heads['Address'].str[4:].values[0]].iloc[:15]"
   ]
  },
  {
   "cell_type": "code",
   "execution_count": null,
   "id": "2656b7ed",
   "metadata": {},
   "outputs": [],
   "source": [
    "census_df.groupby(by=['Address']).size()"
   ]
  },
  {
   "cell_type": "code",
   "execution_count": null,
   "id": "b5c0842a",
   "metadata": {},
   "outputs": [],
   "source": [
    "census_df.loc[census_df['Relationship to Head of House'] == 'Head', ['Address', 'Relationship to Head of House']].groupby(by=['Address']).count()"
   ]
  },
  {
   "cell_type": "markdown",
   "id": "b9b91423",
   "metadata": {},
   "source": [
    "___"
   ]
  }
 ],
 "metadata": {
  "kernelspec": {
   "display_name": "Python 3 (ipykernel)",
   "language": "python",
   "name": "python3"
  },
  "language_info": {
   "codemirror_mode": {
    "name": "ipython",
    "version": 3
   },
   "file_extension": ".py",
   "mimetype": "text/x-python",
   "name": "python",
   "nbconvert_exporter": "python",
   "pygments_lexer": "ipython3",
   "version": "3.9.7"
  }
 },
 "nbformat": 4,
 "nbformat_minor": 5
}
