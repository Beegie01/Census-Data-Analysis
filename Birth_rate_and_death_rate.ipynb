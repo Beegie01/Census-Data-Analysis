{
 "cells": [
  {
   "cell_type": "code",
   "execution_count": null,
   "id": "69c20017",
   "metadata": {},
   "outputs": [],
   "source": [
    "import copy\n",
    "import seaborn as sns\n",
    "from seaborn.utils import np, pd, plt, os"
   ]
  },
  {
   "cell_type": "code",
   "execution_count": null,
   "id": "d878bb66",
   "metadata": {},
   "outputs": [],
   "source": [
    "my_pkg = \"..//Presentation\"\n",
    "imp_mods = os.sys.path \n",
    "if my_pkg not in imp_mods:\n",
    "    imp_mods.append(my_pkg)\n",
    "    print(\"Imported successfully\")"
   ]
  },
  {
   "cell_type": "code",
   "execution_count": null,
   "id": "0e8c954d",
   "metadata": {},
   "outputs": [],
   "source": [
    "from census_methods import CensusDataset as cd "
   ]
  },
  {
   "cell_type": "code",
   "execution_count": null,
   "id": "efac4426",
   "metadata": {},
   "outputs": [],
   "source": [
    "census_df = pd.read_csv('final_Marital_Status_and_Religion_cleaned.csv')"
   ]
  },
  {
   "cell_type": "code",
   "execution_count": null,
   "id": "e1f4c9f5",
   "metadata": {},
   "outputs": [],
   "source": [
    "census_df.info()"
   ]
  },
  {
   "cell_type": "markdown",
   "id": "5665c280",
   "metadata": {},
   "source": [
    "#### BIRTH RATE"
   ]
  },
  {
   "cell_type": "code",
   "execution_count": null,
   "id": "b7e8fe74",
   "metadata": {},
   "outputs": [],
   "source": [
    "# Crude Birth Rate = (birth_thisyr / total_population) * 1000\n",
    "birth_thisyr = census_df.loc[census_df['Age'] == 0].shape[0]\n",
    "population = census_df.shape[0]\n",
    "cbr = 1000 * birth_thisyr/population\n",
    "print(f\"There are {cbr:.2f} births per thousand residents\")"
   ]
  },
  {
   "cell_type": "markdown",
   "id": "53a3fd50",
   "metadata": {},
   "source": [
    "#### CHANGES IN BIRTH RATE"
   ]
  },
  {
   "cell_type": "code",
   "execution_count": null,
   "id": "bf183d62",
   "metadata": {},
   "outputs": [],
   "source": [
    "# 4yr_br - cbr\n",
    "babies_4yr = census_df.loc[census_df['Age'] == 4].shape[0]\n",
    "br_4yr = 1000 * babies_4yr/population\n",
    "br_diff = cbr - br_4yr\n",
    "print(f\"Birth rate 4 years ago was {br_4yr:.2f} births per thousand residents\")"
   ]
  },
  {
   "cell_type": "code",
   "execution_count": null,
   "id": "e3fea012",
   "metadata": {},
   "outputs": [],
   "source": [
    "print(f\"Current birth rate change from previous per 1000: {br_diff:.2f}\")"
   ]
  },
  {
   "cell_type": "markdown",
   "id": "dbdb3ce5",
   "metadata": {},
   "source": [
    "#### AGE SPECIFIC FERTILITY RATE"
   ]
  },
  {
   "cell_type": "code",
   "execution_count": null,
   "id": "f01a28a6",
   "metadata": {},
   "outputs": [],
   "source": [
    "# 25 to 29 yo\n",
    "mothers2529 = census_df.loc[(census_df['Age'].between(25, 29)) &\n",
    "                           (census_df['Gender'] == 'F')].shape[0]\n",
    "\n",
    "asfr25 = 1000 * (birth_thisyr/mothers2529)\n",
    "asfr25"
   ]
  },
  {
   "cell_type": "code",
   "execution_count": null,
   "id": "015b818e",
   "metadata": {},
   "outputs": [],
   "source": [
    "# 30 to 34 yo\n",
    "mothers3034 = census_df.loc[(census_df['Age'].between(30, 34)) &\n",
    "                           (census_df['Gender'] == 'F')].shape[0]\n",
    "asfr30 = 1000 * (babies_4yr/mothers3034)\n",
    "asfr30"
   ]
  },
  {
   "cell_type": "code",
   "execution_count": null,
   "id": "d26a2e81",
   "metadata": {},
   "outputs": [],
   "source": [
    "# 35 to 39 yo\n",
    "mothers3539 = census_df.loc[(census_df['Age'].between(35, 39)) &\n",
    "                           (census_df['Gender'] == 'F')].shape[0]\n",
    "\n",
    "babies_8yr = census_df.loc[census_df['Age'] == 8].shape[0]\n",
    "\n",
    "asfr35 = 1000 * (babies_8yr/mothers3539)\n",
    "asfr35"
   ]
  },
  {
   "cell_type": "code",
   "execution_count": null,
   "id": "3740b189",
   "metadata": {},
   "outputs": [],
   "source": [
    "print(f\"Age Specific Fertility Rate 25-29: {asfr25}\")\n",
    "print(f\"Age Specific Fertility Rate 30-34: {asfr30}\")\n",
    "print(f\"Age Specific Fertility Rate 35-39: {asfr35}\")"
   ]
  },
  {
   "cell_type": "markdown",
   "id": "69bbe78e",
   "metadata": {},
   "source": [
    "#### GENERAL FERTILITY RATE"
   ]
  },
  {
   "cell_type": "code",
   "execution_count": null,
   "id": "0a4654fb",
   "metadata": {},
   "outputs": [],
   "source": [
    "sum_babies = birth_thisyr + babies_4yr + babies_8yr\n",
    "sum_mothers = mothers2529 + mothers3034 + mothers3539\n",
    "gen_fert_rate = 1000 * (sum_babies/sum_mothers)\n",
    "print(f\"General fertility rate: {gen_fert_rate}\")"
   ]
  },
  {
   "cell_type": "markdown",
   "id": "c0964c6d",
   "metadata": {},
   "source": [
    "#### CRUDE DEATH RATE"
   ]
  },
  {
   "cell_type": "code",
   "execution_count": null,
   "id": "0defb0da",
   "metadata": {
    "scrolled": true
   },
   "outputs": [],
   "source": [
    "senior_citizens = census_df.loc[census_df['Age'] >= 65]\n",
    "senior_age_freq = senior_citizens['Age'].value_counts().sort_index(ascending=False)\n",
    "senior_age_freq.name = 'Age Count'\n",
    "senior_age_freq"
   ]
  },
  {
   "cell_type": "code",
   "execution_count": null,
   "id": "c5705378",
   "metadata": {
    "scrolled": true
   },
   "outputs": [],
   "source": [
    "# estimate last year's ages\n",
    "lastyr_senior_freq = senior_age_freq.shift(-1)\n",
    "lastyr_senior_freq"
   ]
  },
  {
   "cell_type": "code",
   "execution_count": null,
   "id": "7ce617d3",
   "metadata": {
    "scrolled": true
   },
   "outputs": [],
   "source": [
    "diff_btw_seniors = senior_age_freq - lastyr_senior_freq\n",
    "diff_btw_seniors"
   ]
  },
  {
   "cell_type": "code",
   "execution_count": null,
   "id": "a555e8a5",
   "metadata": {},
   "outputs": [],
   "source": [
    "deaths = diff_btw_seniors.loc[diff_btw_seniors < 0]\n",
    "deaths"
   ]
  },
  {
   "cell_type": "code",
   "execution_count": null,
   "id": "d1c0f4a0",
   "metadata": {},
   "outputs": [],
   "source": [
    "death_rate = 1000 * np.abs(deaths).sum()/population\n",
    "print(f\"Town's death rate: {death_rate} deaths per 1000 resident\")"
   ]
  },
  {
   "cell_type": "markdown",
   "id": "cfdfee4b",
   "metadata": {},
   "source": [
    "#### CRUDE GROWTH RATE"
   ]
  },
  {
   "cell_type": "code",
   "execution_count": null,
   "id": "8485ee4a",
   "metadata": {},
   "outputs": [],
   "source": [
    "cgr = cbr - death_rate\n",
    "print(f\"Crude Growth Rate: {cgr} per 1000 resident\")\n",
    "print(f\"Percentage Crude Growth Rate: {cgr/10}\")"
   ]
  },
  {
   "cell_type": "code",
   "execution_count": null,
   "id": "fdb19141",
   "metadata": {},
   "outputs": [],
   "source": [
    "sns.set_style('darkgrid')\n",
    "fig = plt.figure(figsize=(8, 6), dpi=200)\n",
    "\n",
    "sns.barplot(x=deaths, y=deaths.index, color='red', ci=None)\n",
    "sns.barplot(x=diff_btw_seniors.loc[~diff_btw_seniors.index.isin(deaths.index)],\n",
    "           y=diff_btw_seniors.loc[~diff_btw_seniors.index.isin(deaths.index)].index,\n",
    "           color='green', ci=None)\n",
    "plt.title(\"Changes in Population Among 65+ Year-Olds\")"
   ]
  },
  {
   "cell_type": "code",
   "execution_count": null,
   "id": "124dbe88",
   "metadata": {},
   "outputs": [],
   "source": []
  }
 ],
 "metadata": {
  "kernelspec": {
   "display_name": "Python 3 (ipykernel)",
   "language": "python",
   "name": "python3"
  },
  "language_info": {
   "codemirror_mode": {
    "name": "ipython",
    "version": 3
   },
   "file_extension": ".py",
   "mimetype": "text/x-python",
   "name": "python",
   "nbconvert_exporter": "python",
   "pygments_lexer": "ipython3",
   "version": "3.9.7"
  }
 },
 "nbformat": 4,
 "nbformat_minor": 5
}
