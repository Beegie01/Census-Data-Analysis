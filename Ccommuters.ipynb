{
 "cells": [
  {
   "cell_type": "code",
   "execution_count": null,
   "id": "1026ccd1",
   "metadata": {},
   "outputs": [],
   "source": [
    "import copy\n",
    "import seaborn as sns\n",
    "from seaborn.utils import np, pd, plt, os"
   ]
  },
  {
   "cell_type": "code",
   "execution_count": null,
   "id": "32a9c48a",
   "metadata": {},
   "outputs": [],
   "source": [
    "my_pkg = \"..//Presentation\"\n",
    "imp_mods = os.sys.path \n",
    "if my_pkg not in imp_mods:\n",
    "    imp_mods.append(my_pkg)\n",
    "    print(\"Imported successfully\")"
   ]
  },
  {
   "cell_type": "code",
   "execution_count": null,
   "id": "119b46dd",
   "metadata": {},
   "outputs": [],
   "source": [
    "from census_methods import CensusDataset as cd "
   ]
  },
  {
   "cell_type": "code",
   "execution_count": null,
   "id": "f7c65178",
   "metadata": {},
   "outputs": [],
   "source": [
    "census_df = pd.read_csv('final_Marital_Status_and_Religion_cleaned.csv')"
   ]
  },
  {
   "cell_type": "code",
   "execution_count": null,
   "id": "acb5a1d8",
   "metadata": {},
   "outputs": [],
   "source": [
    "census_df.info()"
   ]
  },
  {
   "cell_type": "code",
   "execution_count": null,
   "id": "5da39cca",
   "metadata": {},
   "outputs": [],
   "source": [
    "census_df.head()"
   ]
  },
  {
   "cell_type": "markdown",
   "id": "99940f5f",
   "metadata": {},
   "source": [
    "___"
   ]
  },
  {
   "cell_type": "markdown",
   "id": "77824d23",
   "metadata": {},
   "source": [
    "## COMMUTERS"
   ]
  },
  {
   "cell_type": "markdown",
   "id": "747260ba",
   "metadata": {},
   "source": [
    "#### UNIVERSITY STUDENTS"
   ]
  },
  {
   "cell_type": "code",
   "execution_count": null,
   "id": "dafe173e",
   "metadata": {},
   "outputs": [],
   "source": [
    "census_df.loc[census_df['Is Student'] == 1, 'Occupation'].shape[0]"
   ]
  },
  {
   "cell_type": "code",
   "execution_count": null,
   "id": "b36182a2",
   "metadata": {
    "scrolled": true
   },
   "outputs": [],
   "source": [
    "uni_studs = census_df.loc[(census_df['Is Student'] == 1) &\n",
    "                          ~(census_df['Occupation'] == 'Student')]\n",
    "uni_studs"
   ]
  },
  {
   "cell_type": "markdown",
   "id": "3280b67b",
   "metadata": {},
   "source": [
    "#### Percentage of population that are university students (undergrad and postgrad)"
   ]
  },
  {
   "cell_type": "code",
   "execution_count": null,
   "id": "3e40c4df",
   "metadata": {},
   "outputs": [],
   "source": [
    "print(f\"Undergraduate and postgraduate students make up only {np.round(100 * uni_studs.shape[0]/census_df.shape[0], 2)}% of the population\")"
   ]
  },
  {
   "cell_type": "markdown",
   "id": "87728566",
   "metadata": {},
   "source": [
    "#### OTHER LIKELY COMMUTERS"
   ]
  },
  {
   "cell_type": "markdown",
   "id": "d8ede6fa",
   "metadata": {},
   "source": [
    "No university in the town, so workers"
   ]
  },
  {
   "cell_type": "code",
   "execution_count": null,
   "id": "64bd1b81",
   "metadata": {},
   "outputs": [],
   "source": [
    "investigate_occups = census_df.loc[(census_df['Age'] >= 18) &\n",
    "                                   (census_df['Is Retired'] == 0) &\n",
    "                                   (census_df['Is Unemployed'] == 0) &\n",
    "                                   (census_df['Is Student'] == 0), 'Occupation'].value_counts().reset_index()\n",
    "investigate_occups.columns = investigate_occups.columns.str.replace('Occupation', 'Count').str.replace('index', 'Occupation')\n",
    "investigate_occups"
   ]
  },
  {
   "cell_type": "code",
   "execution_count": null,
   "id": "60559ab3",
   "metadata": {},
   "outputs": [],
   "source": [
    "def search_keywords(text: str):\n",
    "    kwords = ['retail', 'teach', 'community', 'primary', 'secondary', \n",
    "              'seller', 'food', 'hosp']\n",
    "    checker = list()\n",
    "    for i in range(len(kwords)):\n",
    "        if kwords[i] in text.lower():\n",
    "            checker.append(1)\n",
    "    return len(checker) > 0"
   ]
  },
  {
   "cell_type": "code",
   "execution_count": null,
   "id": "f3adc1dd",
   "metadata": {},
   "outputs": [],
   "source": [
    "print(investigate_occups.loc[investigate_occups['Occupation'].apply(search_keywords), 'Occupation'].unique())"
   ]
  },
  {
   "cell_type": "code",
   "execution_count": null,
   "id": "6e1654cf",
   "metadata": {},
   "outputs": [],
   "source": [
    "print(census_df.loc[census_df['Occupation'].apply(search_keywords), 'Occupation'].unique())"
   ]
  },
  {
   "cell_type": "code",
   "execution_count": null,
   "id": "9cdfb335",
   "metadata": {},
   "outputs": [],
   "source": []
  }
 ],
 "metadata": {
  "kernelspec": {
   "display_name": "Python 3 (ipykernel)",
   "language": "python",
   "name": "python3"
  },
  "language_info": {
   "codemirror_mode": {
    "name": "ipython",
    "version": 3
   },
   "file_extension": ".py",
   "mimetype": "text/x-python",
   "name": "python",
   "nbconvert_exporter": "python",
   "pygments_lexer": "ipython3",
   "version": "3.9.7"
  }
 },
 "nbformat": 4,
 "nbformat_minor": 5
}
