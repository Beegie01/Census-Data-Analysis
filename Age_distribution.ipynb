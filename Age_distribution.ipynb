{
 "cells": [
  {
   "cell_type": "code",
   "execution_count": null,
   "id": "201737ac",
   "metadata": {},
   "outputs": [],
   "source": [
    "import copy\n",
    "import seaborn as sns\n",
    "from seaborn.utils import np, pd, plt, os"
   ]
  },
  {
   "cell_type": "code",
   "execution_count": null,
   "id": "d4e3a906",
   "metadata": {},
   "outputs": [],
   "source": [
    "my_pkg = \"..//Presentation\"\n",
    "imp_mods = os.sys.path \n",
    "if my_pkg not in imp_mods:\n",
    "    imp_mods.append(my_pkg)\n",
    "    print(\"Imported successfully\")"
   ]
  },
  {
   "cell_type": "code",
   "execution_count": null,
   "id": "5474c9eb",
   "metadata": {},
   "outputs": [],
   "source": [
    "from census_methods import CensusDataset as cd "
   ]
  },
  {
   "cell_type": "code",
   "execution_count": null,
   "id": "5fc83d03",
   "metadata": {
    "scrolled": true
   },
   "outputs": [],
   "source": [
    "os.listdir()"
   ]
  },
  {
   "cell_type": "code",
   "execution_count": null,
   "id": "27c91577",
   "metadata": {
    "scrolled": true
   },
   "outputs": [],
   "source": [
    "census_df = pd.read_csv('final_Marital_Status_and_Religion_cleaned.csv')"
   ]
  },
  {
   "cell_type": "code",
   "execution_count": null,
   "id": "a7464ff2",
   "metadata": {},
   "outputs": [],
   "source": [
    "census_df.info()"
   ]
  },
  {
   "cell_type": "code",
   "execution_count": null,
   "id": "3871402e",
   "metadata": {},
   "outputs": [],
   "source": [
    "census_df.head()"
   ]
  },
  {
   "cell_type": "markdown",
   "id": "baa24786",
   "metadata": {},
   "source": [
    "## Descriptive Statistics"
   ]
  },
  {
   "cell_type": "code",
   "execution_count": null,
   "id": "e4f1ffb4",
   "metadata": {},
   "outputs": [],
   "source": [
    "census_df.describe().transpose()"
   ]
  },
  {
   "cell_type": "code",
   "execution_count": null,
   "id": "09ad4141",
   "metadata": {},
   "outputs": [],
   "source": [
    "census_df.describe(include='object').transpose()"
   ]
  },
  {
   "cell_type": "markdown",
   "id": "50956474",
   "metadata": {},
   "source": [
    "___"
   ]
  },
  {
   "cell_type": "markdown",
   "id": "fc47b217",
   "metadata": {},
   "source": [
    "___"
   ]
  },
  {
   "cell_type": "markdown",
   "id": "ddbd68d7",
   "metadata": {},
   "source": [
    "## AGE DISTRIBUTIONS"
   ]
  },
  {
   "cell_type": "code",
   "execution_count": null,
   "id": "1a3b003d",
   "metadata": {},
   "outputs": [],
   "source": [
    "sns.histplot(data=census_df, x='Age', hue='Gender', multiple='layer')"
   ]
  },
  {
   "cell_type": "markdown",
   "id": "a8c7f65b",
   "metadata": {},
   "source": [
    "#### Maximum Age"
   ]
  },
  {
   "cell_type": "code",
   "execution_count": null,
   "id": "c05b495f",
   "metadata": {},
   "outputs": [],
   "source": [
    "print(f\"Overall maximum Age: {census_df['Age'].max()}\")\n",
    "print(f\"Male maximum Age: {census_df.loc[census_df['Gender'] == 'M', 'Age'].max()}\")\n",
    "print(f\"Female maximum Age: {census_df.loc[census_df['Gender'] == 'F', 'Age'].max()}\")"
   ]
  },
  {
   "cell_type": "markdown",
   "id": "87614ec7",
   "metadata": {},
   "source": [
    "#### Minimum Age"
   ]
  },
  {
   "cell_type": "code",
   "execution_count": null,
   "id": "984aa89c",
   "metadata": {},
   "outputs": [],
   "source": [
    "print(f\"Overall maximum Age: {census_df['Age'].min()}\")\n",
    "print(f\"Male maximum Age: {census_df.loc[census_df['Gender'] == 'M', 'Age'].min()}\")\n",
    "print(f\"Female maximum Age: {census_df.loc[census_df['Gender'] == 'F', 'Age'].min()}\")"
   ]
  },
  {
   "cell_type": "markdown",
   "id": "832f79ab",
   "metadata": {},
   "source": [
    "#### Average Age"
   ]
  },
  {
   "cell_type": "code",
   "execution_count": null,
   "id": "8ac2c34c",
   "metadata": {},
   "outputs": [],
   "source": [
    "print(f\"The average age of the entire population is {np.int_(np.round(census_df['Age'].mean(), 0))} years\")\n",
    "print(f\"The average age of the male population is {np.int_(np.round(census_df.loc[census_df['Gender'] == 'M', 'Age'].mean(), 0))} years\")\n",
    "print(f\"The average age of the female population is {np.int_(np.round(census_df.loc[census_df['Gender'] == 'F', 'Age'].mean(), 0))} years\")"
   ]
  },
  {
   "cell_type": "code",
   "execution_count": null,
   "id": "a4444e13",
   "metadata": {},
   "outputs": [],
   "source": [
    "age_boundaries = list(range(0, census_df['Age'].max()+5, 5))"
   ]
  },
  {
   "cell_type": "code",
   "execution_count": null,
   "id": "52c0863d",
   "metadata": {},
   "outputs": [],
   "source": [
    "print(age_boundaries)"
   ]
  },
  {
   "cell_type": "code",
   "execution_count": null,
   "id": "e6712d79",
   "metadata": {},
   "outputs": [],
   "source": [
    "age_brackets = pd.cut(census_df['Age'], age_boundaries, retbins=True, include_lowest=True, right=False)[0]\n",
    "age_brackets"
   ]
  },
  {
   "cell_type": "code",
   "execution_count": null,
   "id": "866f6a2e",
   "metadata": {
    "scrolled": true
   },
   "outputs": [],
   "source": [
    "age_group_freq = age_brackets.value_counts().sort_index()\n",
    "age_group_freq"
   ]
  },
  {
   "cell_type": "code",
   "execution_count": null,
   "id": "ead9aa33",
   "metadata": {
    "scrolled": true
   },
   "outputs": [],
   "source": [
    "# in percentage\n",
    "age_group_freq_perc = np.round(100 * age_group_freq/census_df.shape[0], 2)\n",
    "age_group_freq_perc"
   ]
  },
  {
   "cell_type": "code",
   "execution_count": null,
   "id": "ad8ec726",
   "metadata": {},
   "outputs": [],
   "source": [
    "# set up color patterns for value ranges\n",
    "# 400 and above\n",
    "threshold = 400\n",
    "below_400 = age_group_freq.loc[age_group_freq < threshold]\n",
    "above_400 = age_group_freq.loc[~(age_group_freq.index.isin(below_400.index))]"
   ]
  },
  {
   "cell_type": "code",
   "execution_count": null,
   "id": "f3ab7ded",
   "metadata": {
    "scrolled": true
   },
   "outputs": [],
   "source": [
    "below_400"
   ]
  },
  {
   "cell_type": "code",
   "execution_count": null,
   "id": "b33e1a3a",
   "metadata": {
    "scrolled": true
   },
   "outputs": [],
   "source": [
    "above_400"
   ]
  },
  {
   "cell_type": "code",
   "execution_count": null,
   "id": "5fdf0cc8",
   "metadata": {},
   "outputs": [],
   "source": [
    "# percentage of population between ages 5 to 59 years\n",
    "majority_population = age_group_freq_perc.loc[age_group_freq.loc[age_group_freq >= 400].index]\n",
    "majority_population"
   ]
  },
  {
   "cell_type": "code",
   "execution_count": null,
   "id": "e90a35d9",
   "metadata": {},
   "outputs": [],
   "source": [
    "# percentage of population between ages 0 to 34 years\n",
    "df = age_group_freq_perc.reset_index()\n",
    "df.loc[:7]['Age'].sum()"
   ]
  },
  {
   "cell_type": "code",
   "execution_count": null,
   "id": "e171c056",
   "metadata": {},
   "outputs": [],
   "source": [
    "sns.set_style(style='whitegrid')\n",
    "pallete = sns.palettes.dark_palette('darkblue', 2)"
   ]
  },
  {
   "cell_type": "code",
   "execution_count": null,
   "id": "cb0f2071",
   "metadata": {
    "scrolled": false
   },
   "outputs": [],
   "source": [
    "fig = plt.figure(figsize=(6, 4), dpi=200)\n",
    "# topax, downax = fig.add_axes([0, 0, 0.9, 0.6]), fig.add_axes([0, 1, 0.9, 0.6])\n",
    "\n",
    "below_400_plot = sns.barplot(y=below_400.index, x=below_400, color='grey')\n",
    "above_400_plot = sns.barplot(y=above_400.index, x=above_400, color='darkblue')\n",
    "\n",
    "plt.xlim(0, 700)\n",
    "\n",
    "for i in range(len(age_group_freq.index)):\n",
    "    plt.text(age_group_freq[i]+1, i, f\"{age_group_freq[i]} --> {age_group_freq_perc[i]}%\",\n",
    "                fontsize=5, weight='bold')\n",
    "    \n",
    "plt.ylabel(\"Age Brackets\")\n",
    "plt.xlabel(\"Count\")\n",
    "\n",
    "plt.tick_params(labelsize=6)\n",
    "\n",
    "# plt.xticks(plt.get_xticks().tolist())\n",
    "# plt.xticklabels([f\"{label: .0f}\" for label in plt.get_xticks().tolist()], fontsize=6)\n",
    "\n",
    "plt.title(\"General Age Distribution with 5-year intervals\")\n",
    "\n",
    "# plot summary\n",
    "plt.text(300, 18, \"{}%\".format(majority_population.sum()) +\n",
    "                   \" of the population is aged between 5 to 59 years.\",\n",
    "                  color='blue', \n",
    "                   bbox={'edgecolor': 'red', 'facecolor': 'white', 'alpha': 0.5},\n",
    "                  fontsize=5)\n",
    "\n",
    "plt.show()\n",
    "# plt.xticks(rotation=90);"
   ]
  },
  {
   "cell_type": "markdown",
   "id": "b74365e9",
   "metadata": {},
   "source": [
    "***General age distribution plot above shows that 77.49% of the population is aged between 5 to 59 years.***"
   ]
  },
  {
   "cell_type": "code",
   "execution_count": null,
   "id": "2486a4e8",
   "metadata": {},
   "outputs": [],
   "source": [
    "fname = 'age_distr_5yr_intervals.png'\n",
    "cd.fig_writer(fname, fig)"
   ]
  },
  {
   "cell_type": "markdown",
   "id": "78a7a92c",
   "metadata": {},
   "source": [
    "#### Age Distribution for Males vs Females"
   ]
  },
  {
   "cell_type": "code",
   "execution_count": null,
   "id": "2efa5080",
   "metadata": {},
   "outputs": [],
   "source": [
    "female_ages = census_df.loc[census_df['Gender'] == 'F', 'Age']\n",
    "male_ages = census_df.loc[census_df['Gender'] == 'M', 'Age']"
   ]
  },
  {
   "cell_type": "code",
   "execution_count": null,
   "id": "4cfd1e94",
   "metadata": {},
   "outputs": [],
   "source": [
    "fem_age_freq = age_brackets.loc[female_ages.index].value_counts().sort_index(ascending=False)\n",
    "mal_age_freq = age_brackets.loc[male_ages.index].value_counts().sort_index(ascending=False)"
   ]
  },
  {
   "cell_type": "code",
   "execution_count": null,
   "id": "386fada3",
   "metadata": {
    "scrolled": true
   },
   "outputs": [],
   "source": [
    "fem_age_freq"
   ]
  },
  {
   "cell_type": "code",
   "execution_count": null,
   "id": "953cd223",
   "metadata": {
    "scrolled": true
   },
   "outputs": [],
   "source": [
    "mal_age_freq"
   ]
  },
  {
   "cell_type": "markdown",
   "id": "16e2297f",
   "metadata": {},
   "source": [
    "#### MALE/FEMALE RATIO\n",
    "Difference between male and female population per age bracket"
   ]
  },
  {
   "cell_type": "markdown",
   "id": "22103f80",
   "metadata": {},
   "source": [
    "#### Ratio of males to females per 1000 residents:\n",
    "= 1000 * (male population/female population)"
   ]
  },
  {
   "cell_type": "code",
   "execution_count": null,
   "id": "ce76e01e",
   "metadata": {
    "scrolled": true
   },
   "outputs": [],
   "source": [
    "print(f\"For every 1000 females, there are {np.round(1000 * len(male_ages)/len(female_ages), 2):.0f} males\")"
   ]
  },
  {
   "cell_type": "code",
   "execution_count": null,
   "id": "c5efbf82",
   "metadata": {},
   "outputs": [],
   "source": [
    "fem_per_male = np.round(1000 * fem_age_freq/mal_age_freq, 0).dropna()\n",
    "fem_per_male"
   ]
  },
  {
   "cell_type": "code",
   "execution_count": null,
   "id": "235bf297",
   "metadata": {},
   "outputs": [],
   "source": [
    "# positive for more females, \n",
    "# negative for more males\n",
    "male_fem_ratio = mal_age_freq - fem_age_freq\n",
    "male_fem_ratio"
   ]
  },
  {
   "cell_type": "code",
   "execution_count": null,
   "id": "0323fc61",
   "metadata": {
    "scrolled": false
   },
   "outputs": [],
   "source": [
    "fig = plt.figure(figsize=(8, 6), dpi=200)\n",
    "l, r = fig.add_axes([0, 0, 0.6, 1]), fig.add_axes([0.8, 0, 0.6, 1])\n",
    "\n",
    "\n",
    "sns.barplot(x=male_fem_ratio, \n",
    "            y=male_fem_ratio.index, \n",
    "            color='darkblue',\n",
    "           ax=l)\n",
    "\n",
    "sns.barplot(x=fem_per_male, \n",
    "            y=fem_per_male.index, \n",
    "            color='darkblue',\n",
    "           ax=r)\n",
    "\n",
    "l.set_xlim(-90, 90)\n",
    "\n",
    "# for i in range(len(male_fem_ratio.index)):\n",
    "#     plt.text(male_fem_ratio[i], i, male_fem_ratio[i],\n",
    "#                 fontsize=5, weight='bold')\n",
    "    \n",
    "l.set_ylabel(\"Age Brackets\", size=10)\n",
    "l.set_xlabel(\"Count\", size=10)\n",
    "\n",
    "r.set_ylabel(\"Age Brackets\", size=10)\n",
    "r.set_xlabel(\"Female Count per 1000 males\", size=10)\n",
    "\n",
    "# plt.tick_params(labelsize=6)\n",
    "\n",
    "l.text(50, 20, 'Male', color='white',\n",
    "              bbox={'facecolor':'black'})\n",
    "l.text(-80, 20, 'Female', color='white',\n",
    "             bbox={'facecolor':'black'})\n",
    "\n",
    "\n",
    "l.set_title(\"Difference Between Male and Female Population\")\n",
    "r.set_title(\"Number of Females Per 1000 Male Residents Per Age Bracket\")\n",
    "\n",
    "# plot summary\n",
    "note = f\"Negative axis means more females\\n\" +\\\n",
    "\"Positive axis means more males\"\n",
    "l.text(10, 8, note,\n",
    "       color='blue', \n",
    "       bbox={'edgecolor': 'red', 'facecolor': 'white', 'alpha': 0.5},\n",
    "       fontsize=10, fontweight='bold')\n",
    "\n",
    "plt.show()\n",
    "# plt.xticks(rotation=90);"
   ]
  },
  {
   "cell_type": "code",
   "execution_count": null,
   "id": "8f0db5a6",
   "metadata": {},
   "outputs": [],
   "source": [
    "fname = 'gender_population_diff.png'\n",
    "cd.fig_writer(fname, fig)"
   ]
  },
  {
   "cell_type": "code",
   "execution_count": null,
   "id": "5244af06",
   "metadata": {
    "scrolled": false
   },
   "outputs": [],
   "source": [
    "sns.set_style('darkgrid')\n",
    "fig = plt.figure(figsize=(6, 4), dpi=200)\n",
    "\n",
    "male_plot = sns.barplot(x=mal_age_freq, \n",
    "                        y=mal_age_freq.index, \n",
    "                        order=mal_age_freq.index,\n",
    "                        color='darkblue',\n",
    "                       lw=0)\n",
    "fem_plot = sns.barplot(x=-1*fem_age_freq, \n",
    "                       y=fem_age_freq.index, \n",
    "                       order=fem_age_freq.index,\n",
    "                       color='darkgreen',\n",
    "                      lw=0)\n",
    "\n",
    "for i in range(age_group_freq.shape[0]):\n",
    "    male_plot.text(mal_age_freq[i]+5, i, mal_age_freq[i], fontweight='bold',\n",
    "                  fontsize=5)\n",
    "    fem_plot.text(-1*fem_age_freq[i]-20, i+0.1, fem_age_freq[i], fontweight='bold',\n",
    "                  fontsize=5)\n",
    "    \n",
    "plt.xlim(-400, 400)\n",
    "fem_plot.set(xticklabels=[400, 300, 200, 100, 0,\n",
    "                         100, 200, 300, 400], xlabel='Population', ylabel='Age Brackets')\n",
    "\n",
    "male_plot.text(250, 1, 'Male', color='white',\n",
    "              bbox={'facecolor':'darkblue'})\n",
    "fem_plot.text(-250, 1, 'Female', color='white',\n",
    "             bbox={'facecolor':'darkgreen'})\n",
    "\n",
    "fem_plot.set_yticklabels(fem_plot.get_yticklabels(), size=5)\n",
    "\n",
    "plt.title(\"Population Pyramid Comparing Male/Female Age Distribution\", fontsize=10);"
   ]
  },
  {
   "cell_type": "code",
   "execution_count": null,
   "id": "c68540b4",
   "metadata": {},
   "outputs": [],
   "source": [
    "fname = 'age_pyramid_5yr_intervals.png'\n",
    "cd.fig_writer(fname, fig)"
   ]
  },
  {
   "cell_type": "code",
   "execution_count": null,
   "id": "ffc1aaac",
   "metadata": {},
   "outputs": [],
   "source": [
    "fname = 'age_pyramid_5yr_intervals.png'\n",
    "cd.fig_writer(fname, fig)"
   ]
  },
  {
   "cell_type": "markdown",
   "id": "7380af92",
   "metadata": {},
   "source": [
    "#### Average age of male"
   ]
  },
  {
   "cell_type": "markdown",
   "id": "0e454285",
   "metadata": {},
   "source": [
    "#### Male age 40 and below"
   ]
  },
  {
   "cell_type": "code",
   "execution_count": null,
   "id": "fc810fa4",
   "metadata": {},
   "outputs": [],
   "source": [
    "husbands_forty_below = census_df.loc[(census_df['Gender'] == 'M') & \n",
    "                                     (census_df['Marital Status'] == 'Married') &\n",
    "                                     (census_df['Age'] <= 40)]\n",
    "husbands_forty_below.shape[0]"
   ]
  },
  {
   "cell_type": "code",
   "execution_count": null,
   "id": "e645be29",
   "metadata": {},
   "outputs": [],
   "source": [
    "husbands = census_df.loc[(census_df['Gender'] == 'M') & \n",
    "                         (census_df['Marital Status'] == 'Married')]\n",
    "husbands.shape[0]"
   ]
  },
  {
   "cell_type": "code",
   "execution_count": null,
   "id": "34b5be3d",
   "metadata": {},
   "outputs": [],
   "source": [
    "100 * husbands_forty_below.shape[0]/husbands.shape[0]"
   ]
  },
  {
   "cell_type": "markdown",
   "id": "20bf7ca7",
   "metadata": {},
   "source": [
    "Moving from one age bracket to the next, the male population"
   ]
  },
  {
   "cell_type": "markdown",
   "id": "f8218101",
   "metadata": {},
   "source": [
    "#### Female age 40 and below"
   ]
  },
  {
   "cell_type": "code",
   "execution_count": null,
   "id": "3b36ec39",
   "metadata": {},
   "outputs": [],
   "source": [
    "wives_forty_below = census_df.loc[(census_df['Gender'] == 'F') & \n",
    "                                     (census_df['Marital Status'] == 'Married') &\n",
    "                                     (census_df['Age'] <= 40)]\n",
    "wives_forty_below.shape[0]"
   ]
  },
  {
   "cell_type": "code",
   "execution_count": null,
   "id": "502499a2",
   "metadata": {},
   "outputs": [],
   "source": [
    "wives = census_df.loc[(census_df['Gender'] == 'M') & \n",
    "                         (census_df['Marital Status'] == 'Married')]\n",
    "wives.shape[0]"
   ]
  },
  {
   "cell_type": "code",
   "execution_count": null,
   "id": "8817af19",
   "metadata": {},
   "outputs": [],
   "source": [
    "100 * wives_forty_below.shape[0]/wives.shape[0]"
   ]
  },
  {
   "cell_type": "markdown",
   "id": "06cd5dd0",
   "metadata": {},
   "source": [
    "#### 10 year interval"
   ]
  },
  {
   "cell_type": "code",
   "execution_count": null,
   "id": "c38cc978",
   "metadata": {},
   "outputs": [],
   "source": [
    "tenyr_age_boundaries = list(range(0, census_df['Age'].max()+10, 10))\n",
    "tenyr_age_boundaries"
   ]
  },
  {
   "cell_type": "code",
   "execution_count": null,
   "id": "2c451da9",
   "metadata": {},
   "outputs": [],
   "source": [
    "tenyr_age_brac = pd.cut(census_df['Age'], tenyr_age_boundaries, right=False, include_lowest=True)\n",
    "tenyr_age_brac"
   ]
  },
  {
   "cell_type": "code",
   "execution_count": null,
   "id": "1c5cea28",
   "metadata": {},
   "outputs": [],
   "source": [
    "tenyr_age_freq = tenyr_age_brac.value_counts().sort_index()\n",
    "tenyr_age_freq"
   ]
  },
  {
   "cell_type": "code",
   "execution_count": null,
   "id": "4e0b6c3e",
   "metadata": {},
   "outputs": [],
   "source": [
    "tenyr_age_perc = np.round(100 * tenyr_age_freq/tenyr_age_freq.sum(), 2)\n",
    "tenyr_age_perc"
   ]
  },
  {
   "cell_type": "code",
   "execution_count": null,
   "id": "2d0b5fb5",
   "metadata": {},
   "outputs": [],
   "source": [
    "perc_pop_below_50 = tenyr_age_perc.reset_index().loc[:4, 'Age'].sum()"
   ]
  },
  {
   "cell_type": "code",
   "execution_count": null,
   "id": "590bdf54",
   "metadata": {},
   "outputs": [],
   "source": [
    "perc_pop_below_40 = np.round(tenyr_age_perc.reset_index().loc[:3, 'Age'].sum(), 2)\n",
    "perc_pop_below_40"
   ]
  },
  {
   "cell_type": "code",
   "execution_count": null,
   "id": "87d42aae",
   "metadata": {},
   "outputs": [],
   "source": [
    "print(f\"{perc_pop_below_50}% of the population are below 50 years\\n\" +\n",
    "     f\"{perc_pop_below_40}% of the population are below 40 years\")"
   ]
  },
  {
   "cell_type": "code",
   "execution_count": null,
   "id": "25e72d2f",
   "metadata": {},
   "outputs": [],
   "source": [
    "df = tenyr_age_freq.reset_index()\n",
    "df"
   ]
  },
  {
   "cell_type": "code",
   "execution_count": null,
   "id": "47995538",
   "metadata": {},
   "outputs": [],
   "source": [
    "df.loc[:4, 'Age']"
   ]
  },
  {
   "cell_type": "code",
   "execution_count": null,
   "id": "7bc2a2f7",
   "metadata": {},
   "outputs": [],
   "source": [
    "df.loc[5:, 'Age']"
   ]
  },
  {
   "cell_type": "code",
   "execution_count": null,
   "id": "ac69e704",
   "metadata": {},
   "outputs": [],
   "source": [
    "fig = plt.figure(figsize=(6, 4), dpi=200)\n",
    "# topax, downax = fig.add_axes([0, 0, 0.9, 0.6]), fig.add_axes([0, 1, 0.9, 0.6])\n",
    "\n",
    "\n",
    "below_50_ax = sns.barplot(x=df.loc[:4, 'index'], \n",
    "                          y=df.loc[:4, 'Age'], \n",
    "                          color='darkblue')\n",
    "\n",
    "fifty_above_ax = sns.barplot(x=df.loc[5:, 'index'], \n",
    "                         y=df.loc[5:, 'Age'], \n",
    "                         color='grey')\n",
    "\n",
    "plt.ylim(0, 1400)\n",
    "\n",
    "for i in range(len(tenyr_age_freq.index)):\n",
    "    plt.text(i-0.25, tenyr_age_freq[i]+1, tenyr_age_freq[i],\n",
    "                fontsize=5, weight='bold')\n",
    "    \n",
    "plt.xlabel(\"Age Brackets\")\n",
    "plt.ylabel(\"Population\")\n",
    "\n",
    "plt.tick_params(labelsize=6)\n",
    "\n",
    "\n",
    "plt.title(\"General Age Distribution with 10-year intervals\")\n",
    "\n",
    "# plot summary\n",
    "note = f\"{perc_pop_below_40}% of the population are below 40 years\\n\" +\\\n",
    "f\"{perc_pop_below_50}% of the population are below 50 years\"\n",
    "plt.text(5, 1200, note,\n",
    "                  color='blue', \n",
    "                   bbox={'edgecolor': 'red', 'facecolor': 'white', 'alpha': 0.5},\n",
    "                  fontsize=8, fontweight='bold')\n",
    "\n",
    "plt.show()\n",
    "# plt.xticks(rotation=90);"
   ]
  },
  {
   "cell_type": "code",
   "execution_count": null,
   "id": "b4f79846",
   "metadata": {},
   "outputs": [],
   "source": [
    "fname = 'age_pyramid_10yr_intervals.png'\n",
    "cd.fig_writer(fname, fig)"
   ]
  },
  {
   "cell_type": "code",
   "execution_count": null,
   "id": "6a00d3f5",
   "metadata": {},
   "outputs": [],
   "source": [
    "twentyyr_gen_age_freq = pd.cut(census_df['Age'], bins=[0, 20, 40, 60, 80, 100, 120], right=False, include_lowest=True).value_counts().sort_index()\n",
    "twentyyr_gen_age_freq"
   ]
  },
  {
   "cell_type": "code",
   "execution_count": null,
   "id": "220a7152",
   "metadata": {},
   "outputs": [],
   "source": [
    "np.round(100 * twentyyr_gen_age_freq/twentyyr_gen_age_freq.sum(), 2)"
   ]
  },
  {
   "cell_type": "markdown",
   "id": "6f924cd1",
   "metadata": {},
   "source": [
    "#### Average Age per House"
   ]
  },
  {
   "cell_type": "code",
   "execution_count": null,
   "id": "16c3ce4b",
   "metadata": {},
   "outputs": [],
   "source": [
    "ave_age_per_addr = census_df[['Address', 'Age']].groupby(by=['Address']).mean().astype(np.int_)\n",
    "ave_age_per_addr.columns = ave_age_per_addr.columns.str.replace('Age', 'Average Age')\n",
    "ave_age_per_addr"
   ]
  },
  {
   "cell_type": "markdown",
   "id": "6306c62b",
   "metadata": {},
   "source": [
    "#### Age Distribution of Household Average Ages"
   ]
  },
  {
   "cell_type": "code",
   "execution_count": null,
   "id": "6f534787",
   "metadata": {
    "scrolled": true
   },
   "outputs": [],
   "source": [
    "ave_age_per_addr_freq = pd.cut(ave_age_per_addr['Average Age'], age_boundaries, retbins=True, include_lowest=True, right=False)[0].value_counts().sort_index()\n",
    "ave_age_per_addr_freq"
   ]
  },
  {
   "cell_type": "code",
   "execution_count": null,
   "id": "b092d2d1",
   "metadata": {
    "scrolled": true
   },
   "outputs": [],
   "source": [
    "ave_age_per_addr_overall_perc = np.round(100 * ave_age_per_addr_freq/ave_age_per_addr_freq.sum(), 2).reset_index()\n",
    "ave_age_per_addr_overall_perc.columns = ave_age_per_addr_overall_perc.columns.str.replace('Average Age', '%Age Count').str.replace('index', 'Age Bracket')\n",
    "ave_age_per_addr_overall_perc"
   ]
  },
  {
   "cell_type": "code",
   "execution_count": null,
   "id": "2b8505d4",
   "metadata": {},
   "outputs": [],
   "source": [
    "above_9_perc = ave_age_per_addr_overall_perc.loc[ave_age_per_addr_overall_perc['%Age Count'] > 9]\n",
    "above_9_perc"
   ]
  },
  {
   "cell_type": "code",
   "execution_count": null,
   "id": "768c5304",
   "metadata": {},
   "outputs": [],
   "source": [
    "below_9_perc = ave_age_per_addr_overall_perc.loc[~(ave_age_per_addr_overall_perc['%Age Count'] > 9)]\n",
    "below_9_perc"
   ]
  },
  {
   "cell_type": "code",
   "execution_count": null,
   "id": "0e7b5035",
   "metadata": {},
   "outputs": [],
   "source": [
    "below_9_perc['%Age Count'].index"
   ]
  },
  {
   "cell_type": "code",
   "execution_count": null,
   "id": "3be7c03f",
   "metadata": {},
   "outputs": [],
   "source": [
    "above_9_perc['%Age Count'].index"
   ]
  },
  {
   "cell_type": "code",
   "execution_count": null,
   "id": "6d5f706f",
   "metadata": {},
   "outputs": [],
   "source": [
    "sns.set_style('darkgrid')\n",
    "fig = plt.figure(figsize=(6, 4), dpi=200)\n",
    "\n",
    "plt.bar(x=above_9_perc['%Age Count'].index,\n",
    "        height=above_9_perc['%Age Count'], \n",
    "            color='green',)\n",
    "#             ci=None)\n",
    "\n",
    "plt.bar(x=below_9_perc['%Age Count'].index, \n",
    "            height=below_9_perc['%Age Count'],\n",
    "            color='black', )\n",
    "#             ci=None)\n",
    "\n",
    "# plt.set(xlabel='Number of Houses', ylabel='Average Age Bracket')\n",
    "plt.xticks(ticks=ave_age_per_addr_overall_perc.index, \n",
    "           labels=ave_age_per_addr_overall_perc['Age Bracket'],\n",
    "          rotation=90, size=5)\n",
    "plt.xlabel(\"Age Bracket\", fontsize=8)\n",
    "plt.ylabel(\"%Age Count\", fontsize=8)\n",
    "\n",
    "for i in range(ave_age_per_addr_overall_perc.shape[0]):\n",
    "    if ave_age_per_addr_overall_perc.loc[i, '%Age Count']:\n",
    "        plt.text(i-0.5, ave_age_per_addr_overall_perc.loc[i, '%Age Count']+0.5,\n",
    "                 f\"{ave_age_per_addr_overall_perc.loc[i, '%Age Count']}%\",\n",
    "                 size=4, weight='bold')\n",
    "        \n",
    "plt.text(12, 8, f\"The average ages of {np.round(above_9_perc['%Age Count'].sum(), 2)}% of Houses \\n\"+\n",
    "        f\"range from 20 to 44 years old\", size=8, color='blue', \n",
    "        bbox={'edgecolor':'red', 'facecolor':'none'})\n",
    "\n",
    "plt.title(\"Average Age Distribution per House\");"
   ]
  },
  {
   "cell_type": "code",
   "execution_count": null,
   "id": "e1657e38",
   "metadata": {},
   "outputs": [],
   "source": [
    "fname = 'average_count_per_house.png'\n",
    "cd.fig_writer(fname, fig)"
   ]
  },
  {
   "cell_type": "markdown",
   "id": "f7a1f8b9",
   "metadata": {},
   "source": [
    "#### Retired residents"
   ]
  },
  {
   "cell_type": "code",
   "execution_count": null,
   "id": "3f3087a4",
   "metadata": {},
   "outputs": [],
   "source": [
    "# AGE of retired resident\n",
    "census_df.loc[census_df['Is Retired'] == 1, 'Age'].shape[0]/census_df.shape[0]"
   ]
  },
  {
   "cell_type": "code",
   "execution_count": null,
   "id": "f35f46ef",
   "metadata": {},
   "outputs": [],
   "source": [
    "fig = plt.figure(figsize=(10, 8), dpi=200)\n",
    "l, r = fig.add_axes([0, 0, 0.8, 1]), fig.add_axes([0.95, 0, 0.8, 1])\n",
    "\n",
    "below_400_plot = sns.barplot(y=below_400.index, x=below_400, color='grey', ax=l)\n",
    "above_400_plot = sns.barplot(y=above_400.index, x=above_400, color='darkblue', ax=l)\n",
    "\n",
    "below_50_ax = sns.barplot(x=df.loc[:4, 'index'], \n",
    "                          y=df.loc[:4, 'Age'], \n",
    "                          color='darkblue',\n",
    "                         ax=r)\n",
    "\n",
    "fifty_above_ax = sns.barplot(x=df.loc[5:, 'index'], \n",
    "                         y=df.loc[5:, 'Age'], \n",
    "                         color='grey',\n",
    "                            ax=r)\n",
    "\n",
    "l.set_xlim(0, 800), r.set_ylim(0, 1400)\n",
    "\n",
    "for i in range(len(age_group_freq.index)):\n",
    "    l.text(age_group_freq[i]+1, i, f\"{age_group_freq[i]} ({age_group_freq_perc[i]}%)\",\n",
    "                fontsize=14, weight='bold')\n",
    "    \n",
    "for i in range(len(tenyr_age_freq.index)):\n",
    "    r.text(i-0.25, tenyr_age_freq[i]+1, tenyr_age_freq[i],\n",
    "                fontsize=14, weight='bold')\n",
    "    \n",
    "l.set_ylabel(\"Age Brackets\", size=15)\n",
    "l.set_xlabel(\"Count\", size=15)\n",
    "r.set_xlabel(\"Age Brackets\", size=15)\n",
    "r.set_ylabel(\"Population\", size=15)\n",
    "\n",
    "l.tick_params(labelsize=10)\n",
    "r.tick_params(labelsize=10)\n",
    "\n",
    "\n",
    "# plt.xticks(plt.get_xticks().tolist())\n",
    "# plt.xticklabels([f\"{label: .0f}\" for label in plt.get_xticks().tolist()], fontsize=6)\n",
    "\n",
    "r.set_title(\"General Age Distribution with 10-year intervals\", size=18)\n",
    "l.set_title(\"General Age Distribution with 5-year intervals\", size=18)\n",
    "\n",
    "# plot summary\n",
    "l.text(200, 21, \"{}%\".format(majority_population.sum()) +\n",
    "                   \" of the population is aged between 5 to 59 years.\",\n",
    "                  color='blue', \n",
    "                   bbox={'edgecolor': 'red', 'facecolor': 'white', 'alpha': 0.5},\n",
    "                  fontsize=16, weight='bold')\n",
    "\n",
    "note = f\"{perc_pop_below_40}% of the population are below 40 years\\n\" +\\\n",
    "f\"{perc_pop_below_50}% of the population are below 50 years\"\n",
    "r.text(4, 1300, note,\n",
    "                  color='blue', \n",
    "                   bbox={'edgecolor': 'red', 'facecolor': 'white', 'alpha': 0.5},\n",
    "                  fontsize=15, fontweight='bold')\n",
    "\n",
    "plt.show()\n",
    "# plt.xticks(rotation=90);"
   ]
  },
  {
   "cell_type": "code",
   "execution_count": null,
   "id": "2db86c12",
   "metadata": {},
   "outputs": [],
   "source": [
    "fname = 'combo_gen_age_distr.png'\n",
    "cd.fig_writer(fname, fig)"
   ]
  }
 ],
 "metadata": {
  "kernelspec": {
   "display_name": "Python 3 (ipykernel)",
   "language": "python",
   "name": "python3"
  },
  "language_info": {
   "codemirror_mode": {
    "name": "ipython",
    "version": 3
   },
   "file_extension": ".py",
   "mimetype": "text/x-python",
   "name": "python",
   "nbconvert_exporter": "python",
   "pygments_lexer": "ipython3",
   "version": "3.9.7"
  }
 },
 "nbformat": 4,
 "nbformat_minor": 5
}
