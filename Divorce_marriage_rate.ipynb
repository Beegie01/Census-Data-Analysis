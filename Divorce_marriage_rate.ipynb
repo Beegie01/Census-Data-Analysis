{
 "cells": [
  {
   "cell_type": "code",
   "execution_count": null,
   "id": "520efbde",
   "metadata": {},
   "outputs": [],
   "source": [
    "import copy\n",
    "import seaborn as sns\n",
    "from seaborn.utils import np, plt, pd, os"
   ]
  },
  {
   "cell_type": "code",
   "execution_count": null,
   "id": "487c0fdd",
   "metadata": {},
   "outputs": [],
   "source": [
    "my_pkg = \"..//Presentation\"\n",
    "imp_mods = os.sys.path \n",
    "if my_pkg not in imp_mods:\n",
    "    imp_mods.append(my_pkg)\n",
    "    print(\"Imported successfully\")"
   ]
  },
  {
   "cell_type": "code",
   "execution_count": null,
   "id": "d565db54",
   "metadata": {},
   "outputs": [],
   "source": [
    "from census_methods import CensusDataset as cd "
   ]
  },
  {
   "cell_type": "code",
   "execution_count": null,
   "id": "a65ce577",
   "metadata": {},
   "outputs": [],
   "source": [
    "census_df = pd.read_csv('final_Marital_Status_and_Religion_cleaned.csv')"
   ]
  },
  {
   "cell_type": "code",
   "execution_count": null,
   "id": "87e8b78a",
   "metadata": {},
   "outputs": [],
   "source": [
    "census_df.info()"
   ]
  },
  {
   "cell_type": "code",
   "execution_count": null,
   "id": "7dbc06c4",
   "metadata": {},
   "outputs": [],
   "source": [
    "census_df.head()"
   ]
  },
  {
   "cell_type": "markdown",
   "id": "1c8a05c6",
   "metadata": {},
   "source": [
    "___"
   ]
  },
  {
   "cell_type": "markdown",
   "id": "180f3657",
   "metadata": {},
   "source": [
    "### MARITAL STATUS"
   ]
  },
  {
   "cell_type": "code",
   "execution_count": null,
   "id": "f33768a9",
   "metadata": {},
   "outputs": [],
   "source": [
    "mar_stat_perc = np.round(100 * census_df['Marital Status'].value_counts()/census_df.shape[0], 2)\n",
    "mar_stat_perc"
   ]
  },
  {
   "cell_type": "code",
   "execution_count": null,
   "id": "b4fbfcb9",
   "metadata": {},
   "outputs": [],
   "source": [
    "sns.set_style('darkgrid')\n",
    "fig = plt.figure(figsize=(8, 6), dpi=200)\n",
    "l, r  = fig.add_axes([0, 0, 0.6, 1]), fig.add_axes([0.8, 0, 0.6, 1])\n",
    "sns.boxplot(data=census_df, y='Age', x='Marital Status', hue='Gender',\n",
    "           palette={'F':'pink', 'M': 'brown'}, ax=l)\n",
    "sns.barplot(y=mar_stat_perc, x=mar_stat_perc.index, ax=r,\n",
    "           palette={'Single':'blue',\n",
    "                   'Married':'green',\n",
    "                   'Divorced':'red',\n",
    "                   'Widowed':'grey',\n",
    "                   'Ineligible':'purple'})\n",
    "\n",
    "sns.move_legend(l, [1.01, 0.7])\n",
    "r.text(3, 32, 'Marital Status', size=12, color='white',\n",
    "      bbox={'facecolor':'black', 'edgecolor':'none'})\n",
    "\n",
    "ax1.set_xlabel(ax1.get_xlabel(), labelpad=1)\n",
    "\n",
    "r.set_ylabel(\"Population (in %)\")\n",
    "r.set_title(\"Population By Marital Status\", size=15)\n",
    "\n",
    "l.set_title(\"Age By Marital Status Across Genders\", size=15)"
   ]
  },
  {
   "cell_type": "code",
   "execution_count": null,
   "id": "cd9e5c6f",
   "metadata": {},
   "outputs": [],
   "source": [
    "fname = 'marr_stat_age_distr.png'\n",
    "cd.fig_writer(fname, fig)"
   ]
  },
  {
   "cell_type": "markdown",
   "id": "90973fa0",
   "metadata": {},
   "source": [
    "### MARRIED VS DIVORCED"
   ]
  },
  {
   "cell_type": "code",
   "execution_count": null,
   "id": "9b076334",
   "metadata": {},
   "outputs": [],
   "source": [
    "census_df['Marital Status'].unique()"
   ]
  },
  {
   "cell_type": "code",
   "execution_count": null,
   "id": "6fb1c1b0",
   "metadata": {
    "scrolled": true
   },
   "outputs": [],
   "source": [
    "married = census_df.loc[census_df['Marital Status'] == 'Married']\n",
    "married"
   ]
  },
  {
   "cell_type": "code",
   "execution_count": null,
   "id": "ab64280f",
   "metadata": {
    "scrolled": true
   },
   "outputs": [],
   "source": [
    "divorced = census_df.loc[census_df['Marital Status'] == 'Divorced']\n",
    "divorced"
   ]
  },
  {
   "cell_type": "code",
   "execution_count": null,
   "id": "0f76b65d",
   "metadata": {},
   "outputs": [],
   "source": [
    "print(f\"{married.shape[0]} married people\")"
   ]
  },
  {
   "cell_type": "code",
   "execution_count": null,
   "id": "54cf12bb",
   "metadata": {},
   "outputs": [],
   "source": [
    "# number of wives\n",
    "wives = married.loc[married['Gender'] == 'F']\n",
    "print(f\"There are {wives.shape[0]} married women living in the town\")"
   ]
  },
  {
   "cell_type": "code",
   "execution_count": null,
   "id": "a0620163",
   "metadata": {},
   "outputs": [],
   "source": [
    "# number of husbands\n",
    "husb = married.loc[married['Gender'] == 'M']\n",
    "print(f\"There are {husb.shape[0]} married men living in the town\")"
   ]
  },
  {
   "cell_type": "code",
   "execution_count": null,
   "id": "c6baa294",
   "metadata": {},
   "outputs": [],
   "source": [
    "print(f\"{divorced.shape[0]} divorced people\")"
   ]
  },
  {
   "cell_type": "code",
   "execution_count": null,
   "id": "5c9c5fd0",
   "metadata": {},
   "outputs": [],
   "source": [
    "# number of divorced wives\n",
    "div_w = divorced.loc[divorced['Gender'] == 'F']\n",
    "print(f\"There are {div_w.shape[0]} divorced women living in the town\")"
   ]
  },
  {
   "cell_type": "code",
   "execution_count": null,
   "id": "72ff8e14",
   "metadata": {},
   "outputs": [],
   "source": [
    "# number of divorced husbands\n",
    "div_h = divorced.loc[divorced['Gender'] == 'M']\n",
    "print(f\"There are {div_h.shape[0]} divorced men living in the town\")"
   ]
  },
  {
   "cell_type": "code",
   "execution_count": null,
   "id": "d0c2b428",
   "metadata": {},
   "outputs": [],
   "source": [
    "age_boundaries = list(range(0, census_df['Age'].max()+5, 5))"
   ]
  },
  {
   "cell_type": "code",
   "execution_count": null,
   "id": "cfc820bd",
   "metadata": {},
   "outputs": [],
   "source": [
    "sns.set_style(style='darkgrid')\n",
    "fig = plt.figure(figsize=(6, 4), dpi=200)\n",
    "mar_ax, div_ax = fig.add_axes([0, 0, 0.6, 1]), fig.add_axes([0.8, 0, 0.6, 1])\n",
    "\n",
    "sns.histplot(data=married, x='Age', hue='Gender', multiple='layer',\n",
    "             bins=age_boundaries,\n",
    "             palette={'F': 'darkblue',\n",
    "                    'M': 'darkgreen'}, ax=mar_ax)\n",
    "\n",
    "sns.histplot(data=divorced, x='Age', hue='Gender', multiple='layer',\n",
    "             bins=age_boundaries, \n",
    "             palette={'F': 'darkblue',\n",
    "                    'M': 'darkgreen'}, ax=div_ax)\n",
    "\n",
    "mar_ax.set_ylabel(\"Population\"), div_ax.set_ylabel(\"Population\")\n",
    "mar_ax.set_ylim(0, 180), div_ax.set_ylim(0, 80)\n",
    "\n",
    "mar_ax.text(0, 180, \"Married\", color='white', size=12,\n",
    "        bbox={'facecolor':'black', 'edgecolor':'none'})\n",
    "div_ax.text(0, 80, \"Divorced\", color='white', size=12,\n",
    "        bbox={'facecolor':'black', 'edgecolor':'none'})\n",
    "\n",
    "note = \"Population\\n\" +\\\n",
    "\"-\"*15 +\\\n",
    "f\"\\nWives: {wives.shape[0]}\\n\" +\\\n",
    "f\"Husbands: {husbands.shape[0]}\"\n",
    "mar_ax.text(60, 150, note, color='black', size=8, weight='bold',\n",
    "        bbox={'facecolor':'none', 'edgecolor':'red'})\n",
    "\n",
    "note = \"Population\\n\" +\\\n",
    "\"-\"*15 +\\\n",
    "f\"\\nWomen: {div_w.shape[0]}\\n\" +\\\n",
    "f\"Men: {div_h.shape[0]}\"\n",
    "div_ax.text(70, 65, note, color='black', size=8, weight='bold',\n",
    "        bbox={'facecolor':'none', 'edgecolor':'red'})\n",
    "\n",
    "sns.move_legend(mar_ax, [1.01, 0.75]), sns.move_legend(div_ax, [1.01, 0.75])\n",
    "\n",
    "mar_ax.set_title(\"Age Distribution of Married Residents with 5-year Intervals\", y=1.05)\n",
    "div_ax.set_title(\"Age Distribution of Divorced Residents with 5-year Intervals\", y=1.05);"
   ]
  },
  {
   "cell_type": "code",
   "execution_count": null,
   "id": "4e77f869",
   "metadata": {},
   "outputs": [],
   "source": [
    "fname = 'marr_div_age_distr.png'\n",
    "cd.fig_writer(fname, fig)"
   ]
  },
  {
   "cell_type": "markdown",
   "id": "59997cc9",
   "metadata": {},
   "source": [
    "#### Direct Comparison Between Married and Divorced"
   ]
  },
  {
   "cell_type": "code",
   "execution_count": null,
   "id": "d903c39b",
   "metadata": {},
   "outputs": [],
   "source": [
    "married_age_freq = pd.cut(married['Age'], bins=age_boundaries, retbins=True, include_lowest=True, right=False)[0].value_counts().sort_index()\n",
    "married_age_freq"
   ]
  },
  {
   "cell_type": "code",
   "execution_count": null,
   "id": "c1309215",
   "metadata": {},
   "outputs": [],
   "source": [
    "married_age_perc = np.round(100 * married_age_freq/married_age_freq.sum(), 2)\n",
    "married_age_perc"
   ]
  },
  {
   "cell_type": "code",
   "execution_count": null,
   "id": "1950d692",
   "metadata": {},
   "outputs": [],
   "source": [
    "df = married_age_perc.reset_index(name='% Head Count')\n",
    "df.columns = df.columns.str.replace('index', 'Age Bracket')\n",
    "mar_ages_0_44 = df.loc[df.index.isin(range(9))]\n",
    "mar_ages_0_44['% Head Count']"
   ]
  },
  {
   "cell_type": "code",
   "execution_count": null,
   "id": "c5abe6cb",
   "metadata": {},
   "outputs": [],
   "source": [
    "divorced_age_freq = pd.cut(divorced['Age'], bins=age_boundaries, retbins=True, include_lowest=True, right=False)[0].value_counts().sort_index()\n",
    "divorced_age_freq"
   ]
  },
  {
   "cell_type": "code",
   "execution_count": null,
   "id": "ca0df3dd",
   "metadata": {},
   "outputs": [],
   "source": [
    "divorced_age_perc = np.round(100 * divorced_age_freq/divorced_age_freq.sum(), 2)\n",
    "divorced_age_perc"
   ]
  },
  {
   "cell_type": "code",
   "execution_count": null,
   "id": "e76382ab",
   "metadata": {},
   "outputs": [],
   "source": [
    "df = divorced_age_perc.reset_index(name='% Head Count')\n",
    "df.columns = df.columns.str.replace('index', 'Age Bracket')\n",
    "div_ages_0_44 = df.loc[df.index.isin(range(9))]\n",
    "div_ages_0_44['% Head Count']"
   ]
  },
  {
   "cell_type": "code",
   "execution_count": null,
   "id": "b7ae25e7",
   "metadata": {},
   "outputs": [],
   "source": [
    "fig = plt.figure(figsize=(8, 6), dpi=200)\n",
    "ax1 = fig.add_axes([0, 0, 1, 1])\n",
    "\n",
    "sns.barplot(x=married_age_perc, \n",
    "            y=married_age_perc.index,\n",
    "           color='green',\n",
    "           label='Married',\n",
    "            lw=0,\n",
    "           ax=ax1)\n",
    "\n",
    "sns.barplot(x=-1 * divorced_age_perc,\n",
    "           y=divorced_age_perc.index,\n",
    "           color='red',\n",
    "           label='Divorced', \n",
    "            lw=0,\n",
    "           ax=ax1)\n",
    "\n",
    "plt.xlim(-20, 20)\n",
    "\n",
    "note = \"Residents are getting divorced at younger ages\"+\\\n",
    "\"\\n than they are getting married\"\n",
    "plt.text(-8, 1.5, note, size=10, color='black', weight='bold',\n",
    "        bbox={'edgecolor':'blue', 'facecolor':'none'})\n",
    "\n",
    "note = f\"{np.round(div_ages_0_44['% Head Count'].sum(), 2)}% of divorced residents\" +\\\n",
    "\"\\nare below 45 years\"\n",
    "plt.text(-18, 19, note, size=10, color='black', weight='bold',\n",
    "        bbox={'edgecolor':'blue', 'facecolor':'none'})\n",
    "\n",
    "note = f\"Only {np.round(mar_ages_0_44['% Head Count'].sum(), 2)}% of married residents\" +\\\n",
    "\"\\nare below 45 years\"\n",
    "plt.text(5, 19, note, size=10, color='black', weight='bold',\n",
    "        bbox={'edgecolor':'blue', 'facecolor':'none'})\n",
    "\n",
    "plt.text(15, 12, \"Married\", color='white', weight='bold',\n",
    "        bbox={'facecolor':'green', 'edgecolor':'none'},\n",
    "        size=15)\n",
    "plt.text(-18, 12, \"Divorced\", color='white', weight='bold',\n",
    "        bbox={'facecolor':'red', 'edgecolor':'none'},\n",
    "        size=15)\n",
    "\n",
    "plt.xlabel(\"Married/Divorced Percentage\"), plt.ylabel(\"Age Bracket\")\n",
    "\n",
    "for i in range(married_age_perc.shape[0]):\n",
    "    if married_age_perc[i] or divorced_age_perc[i]:\n",
    "        plt.text(married_age_perc[i] + 0.5, i, married_age_perc[i],\n",
    "                size=5, weight='bold')\n",
    "        plt.text(-1*divorced_age_perc[i] - 1.5, i, divorced_age_perc[i],\n",
    "            size=5, weight='bold')\n",
    "\n",
    "label = [20, 15, 10, 5, 0, 5, 10, 15, 20]\n",
    "plt.xticks(ticks=ax1.get_xticks(), labels=label)\n",
    "\n",
    "\n",
    "plt.title(\"Pyramid Showing Age Distribution for Married and Divorced Residents\", y=1.005, weight='bold', size=15);"
   ]
  },
  {
   "cell_type": "code",
   "execution_count": null,
   "id": "68c7f4a3",
   "metadata": {},
   "outputs": [],
   "source": [
    "fname = 'marr_vs_div_age_pyr.png'\n",
    "cd.fig_writer(fname, fig)"
   ]
  },
  {
   "cell_type": "markdown",
   "id": "fc8ae2a3",
   "metadata": {},
   "source": [
    "#### Number of marriages per year"
   ]
  },
  {
   "cell_type": "code",
   "execution_count": null,
   "id": "46c1eefa",
   "metadata": {},
   "outputs": [],
   "source": [
    "total_married = married.shape[0]\n",
    "print(total_married)"
   ]
  },
  {
   "cell_type": "markdown",
   "id": "2b66c61d",
   "metadata": {},
   "source": [
    "#### Wives & Husbands"
   ]
  },
  {
   "cell_type": "code",
   "execution_count": null,
   "id": "97317d20",
   "metadata": {},
   "outputs": [],
   "source": [
    "wives = census_df.loc[(census_df['Marital Status'] == 'Married') &\n",
    "                      (census_df['Gender'] == 'F')]  # married females\n",
    "husbands = married.loc[(census_df['Marital Status'] == 'Married') &\n",
    "                      (census_df['Gender'] == 'M')]  # married males"
   ]
  },
  {
   "cell_type": "code",
   "execution_count": null,
   "id": "7d2fc481",
   "metadata": {},
   "outputs": [],
   "source": [
    "# number of wives\n",
    "print(wives.shape[0])"
   ]
  },
  {
   "cell_type": "code",
   "execution_count": null,
   "id": "512b34b7",
   "metadata": {},
   "outputs": [],
   "source": [
    "# number of husbands\n",
    "print(husbands.shape[0])"
   ]
  },
  {
   "cell_type": "markdown",
   "id": "1a8e61b6",
   "metadata": {},
   "source": [
    "#### Number of Marriages\n",
    "(number of wives + number of husbands)/2"
   ]
  },
  {
   "cell_type": "code",
   "execution_count": null,
   "id": "059e6e20",
   "metadata": {},
   "outputs": [],
   "source": [
    "num_marriages = np.int_((wives.shape[0] + husbands.shape[0])/2)\n",
    "print(num_marriages)"
   ]
  },
  {
   "cell_type": "markdown",
   "id": "fb132eb3",
   "metadata": {},
   "source": [
    "### Married Rate\n",
    "\n",
    "**Crude Marriage Rate:**<br>\n",
    "CMR = (Number of marriages per year / Total population) * 1000<br>\n",
    "Number of marriages per 1000 resident"
   ]
  },
  {
   "cell_type": "markdown",
   "id": "9e1254e3",
   "metadata": {},
   "source": [
    "Married this year is assumed be wives and husbands who are between 25 and 29 years."
   ]
  },
  {
   "cell_type": "code",
   "execution_count": null,
   "id": "afc12ea0",
   "metadata": {},
   "outputs": [],
   "source": [
    "married_thisyr = married.loc[married['Age'].between(25, 29)]\n",
    "num_marriages = married_thisyr.shape[0]/2\n",
    "num_marriages"
   ]
  },
  {
   "cell_type": "code",
   "execution_count": null,
   "id": "1bf05f2f",
   "metadata": {},
   "outputs": [],
   "source": [
    "married_thisyr['Gender'].value_counts()"
   ]
  },
  {
   "cell_type": "code",
   "execution_count": null,
   "id": "52a2aa51",
   "metadata": {},
   "outputs": [],
   "source": [
    "marriage_rate = 1000 * num_marriages/census_df.shape[0]\n",
    "marriage_rate"
   ]
  },
  {
   "cell_type": "code",
   "execution_count": null,
   "id": "ce9627cf",
   "metadata": {},
   "outputs": [],
   "source": [
    "print(f\"{np.round(marriage_rate, 0): .0f} marriages occur per 1000 residents annually\")"
   ]
  },
  {
   "cell_type": "markdown",
   "id": "19bc2217",
   "metadata": {},
   "source": [
    "### Divorced Rate\n",
    "\n",
    "**Crude Divorced Rate:**<br>\n",
    "CDR = (Number of divorces per year / Total population) * 1000<br>\n",
    "Number of divorces per 1000 resident"
   ]
  },
  {
   "cell_type": "code",
   "execution_count": null,
   "id": "dd420212",
   "metadata": {},
   "outputs": [],
   "source": [
    "# women tend to get divorced between 45-49\n",
    "divorce_thisyr = divorced.loc[divorced['Age'].between(45, 49)]\n",
    "num_divorces = divorce_thisyr.shape[0]/2\n",
    "divorce_thisyr.shape[0]"
   ]
  },
  {
   "cell_type": "code",
   "execution_count": null,
   "id": "fc0f186b",
   "metadata": {},
   "outputs": [],
   "source": [
    "divorce_thisyr['Gender'].value_counts()"
   ]
  },
  {
   "cell_type": "code",
   "execution_count": null,
   "id": "b8bcd9a1",
   "metadata": {},
   "outputs": [],
   "source": [
    "divorce_rate = 1000 * num_divorces/census_df.shape[0]\n",
    "divorce_rate"
   ]
  },
  {
   "cell_type": "code",
   "execution_count": null,
   "id": "674c2a0f",
   "metadata": {},
   "outputs": [],
   "source": [
    "print(f\"{np.round(divorce_rate, 0): .0f} divorces occur per 1000 residents annually\")"
   ]
  },
  {
   "cell_type": "markdown",
   "id": "41b37466",
   "metadata": {},
   "source": [
    "#### Divorced by 45"
   ]
  },
  {
   "cell_type": "code",
   "execution_count": null,
   "id": "1b20d66c",
   "metadata": {},
   "outputs": [],
   "source": [
    "divorced_by_45 = census_df.loc[(census_df['Marital Status'] == 'Divorced') &\n",
    "                               (census_df['Age'].between(0, 45))]\n",
    "divorced_by_45"
   ]
  },
  {
   "cell_type": "code",
   "execution_count": null,
   "id": "caed75f3",
   "metadata": {},
   "outputs": [],
   "source": [
    "divorced_by_45.shape[0]/divorced.shape[0]"
   ]
  },
  {
   "cell_type": "code",
   "execution_count": null,
   "id": "8a69052c",
   "metadata": {},
   "outputs": [],
   "source": []
  }
 ],
 "metadata": {
  "kernelspec": {
   "display_name": "Python 3 (ipykernel)",
   "language": "python",
   "name": "python3"
  },
  "language_info": {
   "codemirror_mode": {
    "name": "ipython",
    "version": 3
   },
   "file_extension": ".py",
   "mimetype": "text/x-python",
   "name": "python",
   "nbconvert_exporter": "python",
   "pygments_lexer": "ipython3",
   "version": "3.9.7"
  }
 },
 "nbformat": 4,
 "nbformat_minor": 5
}
