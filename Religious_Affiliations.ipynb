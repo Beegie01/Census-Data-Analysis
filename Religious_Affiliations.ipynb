{
 "cells": [
  {
   "cell_type": "code",
   "execution_count": null,
   "id": "da8d2ebb",
   "metadata": {},
   "outputs": [],
   "source": [
    "import copy\n",
    "import seaborn as sns\n",
    "from seaborn.utils import np, plt, pd, os"
   ]
  },
  {
   "cell_type": "code",
   "execution_count": null,
   "id": "3a50e5c3",
   "metadata": {},
   "outputs": [],
   "source": [
    "my_pkg = \"..//Presentation\"\n",
    "imp_mods = os.sys.path \n",
    "if my_pkg not in imp_mods:\n",
    "    imp_mods.append(my_pkg)\n",
    "    print(\"Imported successfully\")"
   ]
  },
  {
   "cell_type": "code",
   "execution_count": null,
   "id": "f0804782",
   "metadata": {},
   "outputs": [],
   "source": [
    "census_df = pd.read_csv('final_Marital_Status_and_Religion_cleaned.csv')"
   ]
  },
  {
   "cell_type": "code",
   "execution_count": null,
   "id": "b4a738a5",
   "metadata": {},
   "outputs": [],
   "source": [
    "from census_methods import CensusDataset as cd "
   ]
  },
  {
   "cell_type": "code",
   "execution_count": null,
   "id": "a025abd4",
   "metadata": {},
   "outputs": [],
   "source": [
    "census_df.info()"
   ]
  },
  {
   "cell_type": "code",
   "execution_count": null,
   "id": "55960c6d",
   "metadata": {},
   "outputs": [],
   "source": [
    "census_df.head()"
   ]
  },
  {
   "cell_type": "markdown",
   "id": "df78712c",
   "metadata": {},
   "source": [
    "___"
   ]
  },
  {
   "cell_type": "markdown",
   "id": "7dbc8610",
   "metadata": {},
   "source": [
    "## RELIGIOUS AFFILIATIONS"
   ]
  },
  {
   "cell_type": "code",
   "execution_count": null,
   "id": "130d49cd",
   "metadata": {},
   "outputs": [],
   "source": [
    "religion_freq = census_df['Religion'].value_counts()\n",
    "religion_freq"
   ]
  },
  {
   "cell_type": "code",
   "execution_count": null,
   "id": "5744a644",
   "metadata": {
    "scrolled": true
   },
   "outputs": [],
   "source": [
    "relig_perc = np.round(100 * religion_freq/religion_freq.sum(), 2)\n",
    "relig_perc"
   ]
  },
  {
   "cell_type": "code",
   "execution_count": null,
   "id": "1bfb2818",
   "metadata": {
    "scrolled": true
   },
   "outputs": [],
   "source": [
    "known_religion = census_df.loc[~census_df['Religion'].isin(['Unknown', 'Ineligible'])]\n",
    "known_religion"
   ]
  },
  {
   "cell_type": "code",
   "execution_count": null,
   "id": "389adb91",
   "metadata": {},
   "outputs": [],
   "source": [
    "known_relig_freq = known_religion['Religion'].value_counts()\n",
    "known_relig_freq"
   ]
  },
  {
   "cell_type": "code",
   "execution_count": null,
   "id": "414e4da9",
   "metadata": {},
   "outputs": [],
   "source": [
    "known_relig_perc = np.round(100 * known_relig_freq/known_relig_freq.sum(), 2)\n",
    "known_relig_perc"
   ]
  },
  {
   "cell_type": "markdown",
   "id": "c1132df6",
   "metadata": {},
   "source": [
    "#### Age Brackets per Religion"
   ]
  },
  {
   "cell_type": "code",
   "execution_count": null,
   "id": "5f96e182",
   "metadata": {},
   "outputs": [],
   "source": [
    "age_boundaries = list(range(0, census_df['Age'].max()+5, 5))"
   ]
  },
  {
   "cell_type": "code",
   "execution_count": null,
   "id": "26f8d8eb",
   "metadata": {},
   "outputs": [],
   "source": [
    "# set up grid layout for figure\n",
    "sns.set_style(style='darkgrid')\n",
    "# adjust dimensions of figure\n",
    "fig = plt.figure(figsize=(6, 4), dpi=200)\n",
    "l, r = fig.add_axes([0, 0, 0.8, 1]), fig.add_axes([1.15, 0, 0.8, 1])\n",
    "\n",
    "sns.histplot(data=census_df, x='Age', hue='Religion', ax=l,\n",
    "             multiple='layer', bins=age_boundaries, alpha=0.5,\n",
    "             palette={'Christian': 'darkgreen', \n",
    "                     'Agnostic': 'brown',\n",
    "                     'Muslim': 'yellow',\n",
    "                     'Sikh': 'darkblue',\n",
    "                     'Bahai': 'grey',\n",
    "                     'Jewish': 'darkred',\n",
    "                    'Unknown':'darkgrey',\n",
    "                    'Ineligible': 'black'})\n",
    "\n",
    "sns.barplot(x=known_relig_freq.index,\n",
    "            y=known_relig_freq, ax=r,\n",
    "            palette={'Christian': 'darkblue', \n",
    "                     'Agnostic': 'brown',\n",
    "                    'Muslim': 'yellow',\n",
    "                    'Sikh': 'darkred',\n",
    "                    'Bahai': 'red',\n",
    "                    'Jewish': 'blue'})\n",
    "\n",
    "sns.move_legend(l, [1.01, 0.4])\n",
    "\n",
    "l.set_ylabel(\"Head Count\")\n",
    "\n",
    "note = \"Religion per Population\\n\" +\\\n",
    "\"-\"*30 +\\\n",
    "f\"\\nChristian: {relig_perc['Christian']}%\\n\" +\\\n",
    "f\"Muslim: {relig_perc['Muslim']}%\\n\" +\\\n",
    "f\"Sikh: {relig_perc['Sikh']}%\\n\" +\\\n",
    "f\"Jewish: {relig_perc['Jewish']}%\\n\" +\\\n",
    "f\"Agnostic: {relig_perc['Agnostic']}%\\n\" +\\\n",
    "f\"Bahai: {relig_perc['Bahai']}%\\n\" +\\\n",
    "f\"Ineligible: {relig_perc['Ineligible']}%\\n\" +\\\n",
    "f\"Unknown: {relig_perc['Unknown']}%\\n\"\n",
    "\n",
    "l.text(85, 230, note, size=8, color='darkblue',\n",
    "        bbox={'edgecolor':'red', 'facecolor':'none'}, \n",
    "       weight='bold')\n",
    "\n",
    "note = \"For Known Religion\\n\" +\\\n",
    "'-'*30 +\\\n",
    "f\"\\nChristian: {known_relig_perc['Christian']}%\\n\" +\\\n",
    "f\"Muslim: {known_relig_perc['Muslim']}%\\n\" +\\\n",
    "f\"Sikh: {known_relig_perc['Sikh']}%\\n\" +\\\n",
    "f\"Jewish: {known_relig_perc['Jewish']}%\\n\" +\\\n",
    "f\"Agnostic: {known_relig_perc['Agnostic']}%\\n\" +\\\n",
    "f\"Bahai: {known_relig_perc['Bahai']}%\\n\"\n",
    "\n",
    "r.text(1, 2000, note, size=7, weight='bold', color='blue',\n",
    "        bbox={'facecolor':'none', 'edgecolor':'red'})\n",
    "\n",
    "for i in range(known_relig_freq.shape[0]):\n",
    "    r.text(i, known_relig_freq[i]+1, known_relig_freq[i], size=7, weight='bold')\n",
    "    \n",
    "r.set_ylabel(\"Head Count\"), plt.xlabel(\"Religion\")\n",
    "\n",
    "r.set_title(\"Population By Religion\", size=10)\n",
    "\n",
    "l.set_title(\"Age Distribution per Religion (5-year Intervals)\");"
   ]
  },
  {
   "cell_type": "code",
   "execution_count": null,
   "id": "c323617c",
   "metadata": {},
   "outputs": [],
   "source": [
    "fname = 'religion.png'\n",
    "cd.fig_writer(fname, fig)"
   ]
  },
  {
   "cell_type": "markdown",
   "id": "2c00a361",
   "metadata": {},
   "source": [
    "#### Age Spread of Each Religion"
   ]
  },
  {
   "cell_type": "markdown",
   "id": "7cfa7f9e",
   "metadata": {},
   "source": [
    "#### 1. Christianity"
   ]
  },
  {
   "cell_type": "code",
   "execution_count": null,
   "id": "1c825c8a",
   "metadata": {
    "scrolled": true
   },
   "outputs": [],
   "source": [
    "christian = known_religion.loc[known_religion['Religion'] == 'Christian']\n",
    "christian"
   ]
  },
  {
   "cell_type": "code",
   "execution_count": null,
   "id": "87774af0",
   "metadata": {},
   "outputs": [],
   "source": [
    "christian_age_distr = pd.cut(christian['Age'], age_boundaries, retbins=True, include_lowest=True, right=False)[0].value_counts().sort_index()\n",
    "christian_age_distr"
   ]
  },
  {
   "cell_type": "code",
   "execution_count": null,
   "id": "6f12a918",
   "metadata": {
    "scrolled": true
   },
   "outputs": [],
   "source": [
    "christian_age_perc = np.round(100 * christian_age_distr/christian_age_distr.sum(), 2)\n",
    "christian_age_perc"
   ]
  },
  {
   "cell_type": "code",
   "execution_count": null,
   "id": "6a5d384e",
   "metadata": {
    "scrolled": true
   },
   "outputs": [],
   "source": [
    "df = christian_age_perc.reset_index()\n",
    "df.columns = df.columns.str.replace('Age', '%Head Count').str.replace('index', 'Age Bracket')\n",
    "df"
   ]
  },
  {
   "cell_type": "code",
   "execution_count": null,
   "id": "46671566",
   "metadata": {},
   "outputs": [],
   "source": [
    "print(f\"{np.round(df.loc[:8, '%Head Count'].sum(), 2)}% of christians are below 45 years old.\\n\" +\n",
    "f\"While {np.round(df.loc[9:, '%Head Count'].sum(), 2)}% of christians are 45 years and above\")"
   ]
  },
  {
   "cell_type": "code",
   "execution_count": null,
   "id": "82051bdd",
   "metadata": {
    "scrolled": true
   },
   "outputs": [],
   "source": [
    "age_18_44 = census_df.loc[census_df['Age'].between(18, 44)]\n",
    "age_18_44"
   ]
  },
  {
   "cell_type": "code",
   "execution_count": null,
   "id": "9927617f",
   "metadata": {
    "scrolled": true
   },
   "outputs": [],
   "source": [
    "adults = census_df.loc[census_df['Age'] >= 18]\n",
    "adults"
   ]
  },
  {
   "cell_type": "code",
   "execution_count": null,
   "id": "611770a0",
   "metadata": {},
   "outputs": [],
   "source": [
    "print(f\"{np.round(100 * age_18_44.shape[0]/adults.shape[0], 2)}% of the entires population aged 18 years and above are between 18 and 44 years\")"
   ]
  },
  {
   "cell_type": "code",
   "execution_count": null,
   "id": "f425e8a8",
   "metadata": {},
   "outputs": [],
   "source": [
    "print(f\"{np.round(100 * age_18_44.shape[0]/census_df.shape[0], 2)}% of the entire population are between 18 and 44 years old\")"
   ]
  },
  {
   "cell_type": "code",
   "execution_count": null,
   "id": "3c419f4b",
   "metadata": {
    "scrolled": true
   },
   "outputs": [],
   "source": [
    "non_christian = known_religion.loc[~known_religion.index.isin(christian.index)]\n",
    "non_christian"
   ]
  },
  {
   "cell_type": "code",
   "execution_count": null,
   "id": "ad96c4a3",
   "metadata": {},
   "outputs": [],
   "source": [
    "non_christian_age_distr = pd.cut(non_christian['Age'], age_boundaries, retbins=True, include_lowest=True, right=False)[0].value_counts().sort_index()\n",
    "non_christian_age_distr"
   ]
  },
  {
   "cell_type": "code",
   "execution_count": null,
   "id": "067ad6c2",
   "metadata": {},
   "outputs": [],
   "source": [
    "non_christian_age_perc  = np.round(100*non_christian_age_distr/non_christian_age_distr.sum(), 2)\n",
    "non_christian_age_perc"
   ]
  },
  {
   "cell_type": "code",
   "execution_count": null,
   "id": "612406dd",
   "metadata": {},
   "outputs": [],
   "source": [
    "df = non_christian_age_perc.reset_index()\n",
    "df.columns = df.columns.str.replace('Age', '%Head Count').str.replace('index', 'Age Bracket')\n",
    "df"
   ]
  },
  {
   "cell_type": "code",
   "execution_count": null,
   "id": "41edc015",
   "metadata": {},
   "outputs": [],
   "source": [
    "df.loc[:8, '%Head Count'].sum()\n",
    "print(f\"{np.round(df.loc[:8, '%Head Count'].sum(), 2)}% of non-christians are below 45 years old.\\n\" +\n",
    "f\"While {np.round(df.loc[9:, '%Head Count'].sum(), 2)}% of non-christians are 45 years and above\")"
   ]
  },
  {
   "cell_type": "code",
   "execution_count": null,
   "id": "5a45672d",
   "metadata": {
    "scrolled": false
   },
   "outputs": [],
   "source": [
    "# set up grid layout for figure\n",
    "sns.set_style(style='darkgrid')\n",
    "# adjust dimensions of figure\n",
    "fig = plt.figure(figsize=(8, 6), dpi=200)\n",
    "l, r = fig.add_axes([0, 0, 0.6, 1]), fig.add_axes([0.8, 0, 0.6, 1])\n",
    "\n",
    "ch_ax = sns.barplot(x=christian_age_distr, \n",
    "            y=christian_age_distr.index, \n",
    "            color='green', \n",
    "            ax=l)\n",
    "\n",
    "nch_ax = sns.barplot(x=-1 * non_christian_age_distr,\n",
    "            y=non_christian_age_distr.index, \n",
    "            color='darkred', \n",
    "            ax=l)\n",
    "\n",
    "sns.boxplot(data=census_df, y='Age', x='Religion',\n",
    "            hue='Gender',\n",
    "           ax=r,\n",
    "           palette={\"F\":'pink',\n",
    "                   'M':'brown'})\n",
    "\n",
    "nch_ax.set_xlim(-200, 400)\n",
    "\n",
    "# for i in range(christian_age_distr.shape[0]):\n",
    "#     if christian_age_distr[i]:\n",
    "#         ch_ax.text(christian_age_distr[i]+1, i-0.4, christian_age_distr[i],\n",
    "#                 size=8, weight='bold')\n",
    "# for i in range(non_christian_age_distr.shape[0]):\n",
    "#     if non_christian_age_distr[i]:\n",
    "#         nch_ax.text(-1*non_christian_age_distr[i] - 1, i, non_christian_age_distr[i],\n",
    "#                 size=8, weight='bold')\n",
    "        \n",
    "nch_ax.text(-170, 1.5, \"Other Religions\", color='white', size=12,\n",
    "        bbox={'facecolor':'darkred', 'edgecolor':'none'})\n",
    "ch_ax.text(300, 1.5, \"Christians\", color='white', size=12,\n",
    "        bbox={'facecolor':'green', 'edgecolor':'none'})\n",
    "\n",
    "label_list = [200, 100, 0, 100, 200, 300, 400]\n",
    "l.set_xticklabels(labels=label_list)\n",
    "# nch_ax.set_yticklabels(labels=nch_ax.get_yticklabels(), rotation=90)\n",
    "\n",
    "l.set_xlabel(\"Head Count\", size=13), l.set_ylabel(\"Age Bracket\", size=13)\n",
    "# nch_ax.set_xlabel(\"Head Count\", size=13), nch_ax.set_xlabel(\"Age Bracket\", size=13)\n",
    "\n",
    "l.set_title(\"Age Distribution of Christians Vs. Other Religions\")\n",
    "r.set_title(\"Gender-based Age Distribution By Religion\");"
   ]
  },
  {
   "cell_type": "code",
   "execution_count": null,
   "id": "a2d3736a",
   "metadata": {},
   "outputs": [],
   "source": [
    "fname = 'compare_religions.png'\n",
    "cd.fig_writer(fname, fig)"
   ]
  },
  {
   "cell_type": "code",
   "execution_count": null,
   "id": "d88b3f2d",
   "metadata": {},
   "outputs": [],
   "source": []
  }
 ],
 "metadata": {
  "kernelspec": {
   "display_name": "Python 3 (ipykernel)",
   "language": "python",
   "name": "python3"
  },
  "language_info": {
   "codemirror_mode": {
    "name": "ipython",
    "version": 3
   },
   "file_extension": ".py",
   "mimetype": "text/x-python",
   "name": "python",
   "nbconvert_exporter": "python",
   "pygments_lexer": "ipython3",
   "version": "3.9.7"
  }
 },
 "nbformat": 4,
 "nbformat_minor": 5
}
