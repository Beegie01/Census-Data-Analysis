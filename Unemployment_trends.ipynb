{
 "cells": [
  {
   "cell_type": "code",
   "execution_count": null,
   "id": "6290176e",
   "metadata": {},
   "outputs": [],
   "source": [
    "import copy\n",
    "import seaborn as sns\n",
    "from seaborn.utils import np, plt, pd, os"
   ]
  },
  {
   "cell_type": "code",
   "execution_count": null,
   "id": "d38774a8",
   "metadata": {},
   "outputs": [],
   "source": [
    "my_pkg = \"..//Presentation\"\n",
    "imp_mods = os.sys.path \n",
    "if my_pkg not in imp_mods:\n",
    "    imp_mods.append(my_pkg)\n",
    "    print(\"Imported successfully\")"
   ]
  },
  {
   "cell_type": "code",
   "execution_count": null,
   "id": "dea1fd81",
   "metadata": {},
   "outputs": [],
   "source": [
    "from census_methods import CensusDataset as cd "
   ]
  },
  {
   "cell_type": "code",
   "execution_count": null,
   "id": "594b00ee",
   "metadata": {},
   "outputs": [],
   "source": [
    "census_df = pd.read_csv('final_Marital_Status_and_Religion_cleaned.csv')"
   ]
  },
  {
   "cell_type": "code",
   "execution_count": null,
   "id": "90b2d9a4",
   "metadata": {},
   "outputs": [],
   "source": [
    "census_df.info()"
   ]
  },
  {
   "cell_type": "code",
   "execution_count": null,
   "id": "d2d1acc6",
   "metadata": {},
   "outputs": [],
   "source": [
    "census_df.head()"
   ]
  },
  {
   "cell_type": "markdown",
   "id": "44f1eee7",
   "metadata": {},
   "source": [
    "___"
   ]
  },
  {
   "cell_type": "markdown",
   "id": "87902b6b",
   "metadata": {},
   "source": [
    "## UNEMPLOYMENT TRENDS"
   ]
  },
  {
   "cell_type": "code",
   "execution_count": null,
   "id": "325b6c68",
   "metadata": {},
   "outputs": [],
   "source": [
    "unemployed = census_df.loc[census_df['Is Unemployed'] == 1]\n",
    "unemployed"
   ]
  },
  {
   "cell_type": "markdown",
   "id": "36d04a4d",
   "metadata": {},
   "source": [
    "#### Those who are actively unemployed (below 65 years and unemployed)"
   ]
  },
  {
   "cell_type": "code",
   "execution_count": null,
   "id": "381997a9",
   "metadata": {},
   "outputs": [],
   "source": [
    "actively_unemployed = unemployed.loc[unemployed['Age'] <= 65]\n",
    "actively_unemployed.shape[0]"
   ]
  },
  {
   "cell_type": "code",
   "execution_count": null,
   "id": "662fcef7",
   "metadata": {},
   "outputs": [],
   "source": [
    "unemployed.shape[0] - actively_unemployed.shape[0]"
   ]
  },
  {
   "cell_type": "markdown",
   "id": "4df0a407",
   "metadata": {},
   "source": [
    "### Are certain ages more likely to be unemployed than others?"
   ]
  },
  {
   "cell_type": "markdown",
   "id": "d7464fcc",
   "metadata": {},
   "source": [
    "#### Age Distribution of Unemployed Residents"
   ]
  },
  {
   "cell_type": "code",
   "execution_count": null,
   "id": "4312b45a",
   "metadata": {},
   "outputs": [],
   "source": [
    "age_boundaries = list(range(0, census_df['Age'].max()+5, 5))\n",
    "print(age_boundaries)"
   ]
  },
  {
   "cell_type": "markdown",
   "id": "92ecf012",
   "metadata": {},
   "source": [
    "#### Classify the ages of unemployed residents"
   ]
  },
  {
   "cell_type": "code",
   "execution_count": null,
   "id": "295a72a5",
   "metadata": {},
   "outputs": [],
   "source": [
    "unemp_age_cls = pd.cut(unemployed['Age'], age_boundaries, retbins=True, right=False, include_lowest=True)[0]\n",
    "unemp_age_cls"
   ]
  },
  {
   "cell_type": "markdown",
   "id": "7a41ca0c",
   "metadata": {},
   "source": [
    "#### Unemployment Trend Across Age Brackets"
   ]
  },
  {
   "cell_type": "code",
   "execution_count": null,
   "id": "c4dc840a",
   "metadata": {},
   "outputs": [],
   "source": [
    "# Frequency table for age distribution of unemployed residents\n",
    "unemp_age_cls_freq = unemp_age_cls.value_counts().sort_index()\n",
    "unemp_age_cls_freq"
   ]
  },
  {
   "cell_type": "code",
   "execution_count": null,
   "id": "ac07a7d7",
   "metadata": {},
   "outputs": [],
   "source": [
    "# as a percentage of total unemployed (\"share of pie\")\n",
    "unemp_age_cls_freq_perc = np.round(100 * unemp_age_cls_freq/unemp_age_cls_freq.sum(), 2)\n",
    "unemp_age_cls_freq_perc"
   ]
  },
  {
   "cell_type": "code",
   "execution_count": null,
   "id": "526def87",
   "metadata": {},
   "outputs": [],
   "source": [
    "# ages 25 to 44\n",
    "unemp_age_cls_freq_perc.reset_index().loc[4:8, 'Age'].sum()"
   ]
  },
  {
   "cell_type": "code",
   "execution_count": null,
   "id": "96e14266",
   "metadata": {},
   "outputs": [],
   "source": [
    "# colored red, others colored darkred\n",
    "ten_perc_and_above = unemp_age_cls_freq_perc.loc[unemp_age_cls_freq_perc >= 10]\n",
    "ten_perc_and_above"
   ]
  },
  {
   "cell_type": "code",
   "execution_count": null,
   "id": "f98281f6",
   "metadata": {
    "scrolled": true
   },
   "outputs": [],
   "source": [
    "below_ten_perc = unemp_age_cls_freq_perc.loc[~(unemp_age_cls_freq_perc.index.isin(ten_perc_and_above.index))]\n",
    "below_ten_perc"
   ]
  },
  {
   "cell_type": "code",
   "execution_count": null,
   "id": "85a56cec",
   "metadata": {
    "scrolled": true
   },
   "outputs": [],
   "source": [
    "# as a percentage of the entire population - overall percentage\n",
    "# for proper perspective\n",
    "unemp_age_cls_overall_perc = np.round(unemp_age_cls_freq/census_df.shape[0], 3)\n",
    "unemp_age_cls_overall_perc"
   ]
  },
  {
   "cell_type": "markdown",
   "id": "2a960e2e",
   "metadata": {},
   "source": [
    "#### Plot Showing the Age Distribution of Unemployed Residents"
   ]
  },
  {
   "cell_type": "code",
   "execution_count": null,
   "id": "6c700d96",
   "metadata": {},
   "outputs": [],
   "source": [
    "sns.set_style(style='whitegrid')\n",
    "fig = plt.figure(figsize=(6, 4), dpi=200)\n",
    "\n",
    "sns.histplot(x=unemployed['Age'], kde=True, bins=age_boundaries)\n",
    "plt.title(\"Age Distribution of Unemployed Residents\")"
   ]
  },
  {
   "cell_type": "code",
   "execution_count": null,
   "id": "85a8a808",
   "metadata": {},
   "outputs": [],
   "source": [
    "# set up grid layout for figure\n",
    "sns.set_style(style='darkgrid')\n",
    "# adjust dimensions of figure\n",
    "fig = plt.figure(figsize=(6, 4), dpi=200)\n",
    "# set up plotting sections\n",
    "down_ax, up_ax = fig.add_axes([0, 0, 1, 0.6]), fig.add_axes([0, 0.8, 1, 0.6])\n",
    "\n",
    "# plot on sections\n",
    "sns.barplot(x=ten_perc_and_above, \n",
    "            y=ten_perc_and_above.index, \n",
    "            color='red', ax=up_ax)\n",
    "sns.barplot(x=below_ten_perc, \n",
    "            y=below_ten_perc.index, \n",
    "            color='darkred', ax=up_ax)\n",
    "sns.barplot(x=unemp_age_cls_overall_perc, \n",
    "            y=unemp_age_cls_overall_perc.index, \n",
    "            color='darkred', ax=down_ax)\n",
    "\n",
    "# set axis boundaries for plotting section\n",
    "up_ax.set_xlim(0, 20)\n",
    "\n",
    "# annotate value(s) for each bar\n",
    "for i in range(unemp_age_cls_freq.shape[0]):\n",
    "    if unemp_age_cls_freq[i]:\n",
    "        up_ax.text(unemp_age_cls_freq_perc[i]+0.5, i, f\"{unemp_age_cls_freq[i]} residents\", \n",
    "                   fontsize=5, fontweight='bold')\n",
    "        down_ax.text(unemp_age_cls_overall_perc[i]+0.00025, i, f\"{unemp_age_cls_overall_perc[i]}%\", \n",
    "                   fontsize=5, fontweight='bold')\n",
    "        \n",
    "# summary of plot\n",
    "up_ax.text(9, 21, \n",
    "           f\"{ten_perc_and_above.sum()}% of all {unemployed['Is Unemployed'].sum()} unemployed residents belong to\\n\" +\n",
    "           \"age brackets: [30 to 34, 35 to 39, 40 to 44, 50 to 54, 55 to 59]\\n\" +\n",
    "           \"(shown above in red)\",\n",
    "           fontsize=8, fontweight='bold', color='blue',\n",
    "           bbox={'alpha': 0.2, 'facecolor':'none', 'edgecolor':'red'})\n",
    "\n",
    "note = f\"{unemployed['Is Unemployed'].sum()} unemployed residents make up only \" +\\\n",
    "             f\"{100 * unemployed['Is Unemployed'].sum()/census_df.shape[0]: .2f}% of the population.\\n\" +\\\n",
    "    f\"And {actively_unemployed.shape[0]} actively unemployed residents make up only \" +\\\n",
    "             f\"{100 * actively_unemployed.shape[0]/census_df.shape[0]: .2f}% of the population\"\n",
    "down_ax.text(0.002, 21, note,\n",
    "           fontsize=8, fontweight='bold', color='blue',\n",
    "           bbox={'alpha': 0.2, 'facecolor':'none', 'edgecolor':'red'})\n",
    "\n",
    "# label the axis of section\n",
    "up_ax.set_xlabel(\"Percentage of Unemployed\"), up_ax.set_ylabel(\"Age Brackets\")\n",
    "down_ax.set_xlabel(\"Percentage of Population\"), down_ax.set_ylabel(\"Age Brackets\")\n",
    "\n",
    "# title for section\n",
    "up_ax.set_title(\"Age Brackets of Unemployed Residents in Percentage\")\n",
    "down_ax.set_title(\"Age Brackets of Unemployed Residents as a Percentage of Population\",\n",
    "                 fontsize=10);"
   ]
  },
  {
   "cell_type": "code",
   "execution_count": null,
   "id": "3204e294",
   "metadata": {},
   "outputs": [],
   "source": [
    "fname = 'gen_unempl_trend.png'\n",
    "cd.fig_writer(fname, fig)"
   ]
  },
  {
   "cell_type": "markdown",
   "id": "ffc4fb0c",
   "metadata": {},
   "source": [
    "### Unemployment Trend Across Gender"
   ]
  },
  {
   "cell_type": "code",
   "execution_count": null,
   "id": "4138244a",
   "metadata": {},
   "outputs": [],
   "source": [
    "unemp_per_gender = unemployed['Gender'].value_counts()\n",
    "unemp_per_gender"
   ]
  },
  {
   "cell_type": "code",
   "execution_count": null,
   "id": "8c5da6f0",
   "metadata": {},
   "outputs": [],
   "source": [
    "# set up grid layout for figure\n",
    "sns.set_style(style='whitegrid')\n",
    "# adjust dimensions of figure\n",
    "fig = plt.figure(figsize=(6, 4), dpi=200)\n",
    "\n",
    "sns.barplot(x=unemp_per_gender.index,\n",
    "            y=unemp_per_gender, \n",
    "            palette={'M':'brown', 'F':'darkblue'})\n",
    "\n",
    "for i in range(unemp_per_gender.shape[0]):\n",
    "    plt.text(i, unemp_per_gender[i]+1, unemp_per_gender[i],\n",
    "            fontweight='bold', size=8)\n",
    "\n",
    "note = \"Unemployed (%):\\n\" +\\\n",
    "\"-\"*20 + f\"\\nFemales: {100*unemp_per_gender['F']/unemp_per_gender.sum(): .2f}\" +\\\n",
    "f\"\\nMales:{100 * unemp_per_gender['M']/unemp_per_gender.sum(): .2f}\"\n",
    "\n",
    "plt.text(0.8, 250, note,\n",
    "        bbox={'facecolor':'none', 'edgecolor':'red'},\n",
    "        size=8)\n",
    "\n",
    "plt.title(\"Number of Male and Female Unemployed Residents\");"
   ]
  },
  {
   "cell_type": "markdown",
   "id": "96da97b2",
   "metadata": {},
   "source": [
    "#### For each age bracket, how many females/males are unemployed?"
   ]
  },
  {
   "cell_type": "code",
   "execution_count": null,
   "id": "c5b601d4",
   "metadata": {},
   "outputs": [],
   "source": [
    "unemp_fem_ages = unemp_age_cls.loc[unemployed['Gender'] == 'F']\n",
    "unemp_mal_ages = unemp_age_cls.loc[unemployed['Gender'] == 'M']"
   ]
  },
  {
   "cell_type": "code",
   "execution_count": null,
   "id": "f812bab4",
   "metadata": {},
   "outputs": [],
   "source": [
    "# age distribution of unemployed males\n",
    "unemp_male_age_distr = unemp_mal_ages.value_counts().sort_index()\n",
    "unemp_male_age_distr"
   ]
  },
  {
   "cell_type": "code",
   "execution_count": null,
   "id": "93a45500",
   "metadata": {},
   "outputs": [],
   "source": [
    "unemp_fem_age_distr = unemp_fem_ages.value_counts().sort_index()\n",
    "unemp_fem_age_distr"
   ]
  },
  {
   "cell_type": "code",
   "execution_count": null,
   "id": "9468b39d",
   "metadata": {
    "scrolled": false
   },
   "outputs": [],
   "source": [
    "# set up grid layout for figure\n",
    "sns.set_style(style='darkgrid')\n",
    "# adjust dimensions of figure\n",
    "fig = plt.figure(figsize=(8, 5), dpi=200)\n",
    "\n",
    "mal_ax = sns.barplot(y=unemp_male_age_distr.index, \n",
    "                     x=unemp_male_age_distr, \n",
    "                     color='brown',\n",
    "                    label='Male',\n",
    "                    lw=0)\n",
    "\n",
    "fem_ax = sns.barplot(y=unemp_fem_age_distr.index, \n",
    "                     x=-1*unemp_fem_age_distr, \n",
    "                     color='darkblue',\n",
    "                    label='Female',\n",
    "                    lw=0)\n",
    "\n",
    "for i in range(unemp_age_cls_freq.shape[0]):\n",
    "    if unemp_male_age_distr[i] or unemp_fem_age_distr[i]:\n",
    "        mal_ax.text(unemp_male_age_distr[i] + 0.5, i, unemp_male_age_distr[i],\n",
    "                    fontweight='bold', size=5)\n",
    "        fem_ax.text(-1*unemp_fem_age_distr[i]-1, i, unemp_fem_age_distr[i], color='black',\n",
    "                    fontweight='bold', size=5)\n",
    "\n",
    "fem_ax.set(xticklabels=[60, 40, 20, 0, 20, 40, 60], xlabel='Head Count', ylabel='Age Bracket')\n",
    "fem_ax.set_yticklabels(fem_ax.get_yticklabels(), size=5)\n",
    "mal_ax.text(20, 1, 'Male', color='brown')\n",
    "fem_ax.text(-20, 1, 'Female', color='darkblue')\n",
    "\n",
    "plt.xlim(-60, 60)\n",
    "\n",
    "plt.title(\"Pyramid of Male/Female Unemployed Residents Per Age Bracket\");"
   ]
  },
  {
   "cell_type": "markdown",
   "id": "ae6cb134",
   "metadata": {},
   "source": [
    "### Unemployment Trend Across Religions"
   ]
  },
  {
   "cell_type": "code",
   "execution_count": null,
   "id": "47bdbcaa",
   "metadata": {},
   "outputs": [],
   "source": [
    "unemp_per_religion = unemployed['Religion'].value_counts()\n",
    "unemp_per_religion"
   ]
  },
  {
   "cell_type": "code",
   "execution_count": null,
   "id": "73fe1610",
   "metadata": {},
   "outputs": [],
   "source": [
    "# set up grid layout for figure\n",
    "sns.set_style(style='whitegrid')\n",
    "# adjust dimensions of figure\n",
    "fig = plt.figure(figsize=(6, 4), dpi=200)\n",
    "\n",
    "sns.barplot(x=unemp_per_religion.index,\n",
    "            y=unemp_per_religion, \n",
    "            palette={'Christian': 'brown', \n",
    "                     'Unknown': 'darkblue',\n",
    "                    'Muslim': 'blue',\n",
    "                    'Sikh': 'darkred',\n",
    "                    'Bahai': 'red',\n",
    "                    'Jewish': 'red'})\n",
    "\n",
    "for i in range(unemp_per_religion.shape[0]):\n",
    "    plt.text(i, unemp_per_religion[i]+1, unemp_per_religion[i],\n",
    "            fontweight='bold', size=8)\n",
    "\n",
    "note = \"Unemployed (%):\\n\" +\\\n",
    "\"-\"*20 + f\"\\nChristian: {100*unemp_per_religion['Christian']/unemp_per_religion.sum(): .2f}\" +\\\n",
    "f\"\\nUnknown:{100 * unemp_per_religion['Unknown']/unemp_per_religion.sum(): .2f}\" +\\\n",
    "f\"\\nMuslim: {100*unemp_per_religion['Muslim']/unemp_per_religion.sum(): .2f}\" +\\\n",
    "f\"\\nOthers: {100 * (unemp_per_religion.loc[['Sikh', 'Bahai', 'Jewish']].sum())/unemp_per_religion.sum(): .2f}\"\n",
    "\n",
    "plt.text(3, 200, note,\n",
    "        bbox={'facecolor':'none', 'edgecolor':'red'},\n",
    "        size=8)\n",
    "\n",
    "plt.title(\"Number of Unemployed Residents Across Religious Lines\");"
   ]
  },
  {
   "cell_type": "markdown",
   "id": "eb7c6fb1",
   "metadata": {},
   "source": [
    "***ANSWER:***<br>\n",
    "The number of unemployed residents (535) is quite small in comparison to the entire population (7581). However, it was observed that almost two-thirds of the unemployed population come from only five (out of twenty-four) age brackets namely:<br>\n",
    "**30 to 34, 35 to 39, 40 to 44, 50 to 54, and 55 to 59**. <br>\n",
    "And they each contributed at least ten percent to the number of unemployed residents.<br>\n",
    "Also, there are **more unemployed females (65%) than males (35%)**.<br>\n",
    "**54% of unemployed are christians, while only 4% come from other religions.**<br>\n",
    "This also is in line with the overall population trend, given there are generally more females than males and more Christians than other religions.<br>"
   ]
  },
  {
   "cell_type": "markdown",
   "id": "00be5f9f",
   "metadata": {},
   "source": [
    "#### Unemployment Trend per Street"
   ]
  },
  {
   "cell_type": "code",
   "execution_count": null,
   "id": "9e2bbe0c",
   "metadata": {},
   "outputs": [],
   "source": [
    "unemp_per_gender"
   ]
  },
  {
   "cell_type": "markdown",
   "id": "837365cb",
   "metadata": {},
   "source": [
    "#### Why are they unemployed?"
   ]
  },
  {
   "cell_type": "code",
   "execution_count": null,
   "id": "548fed58",
   "metadata": {},
   "outputs": [],
   "source": [
    "actively_unemployed['Relationship to Head of House'].value_counts()"
   ]
  },
  {
   "cell_type": "code",
   "execution_count": null,
   "id": "f7451ecd",
   "metadata": {},
   "outputs": [],
   "source": [
    "actively_unemployed['Religion'].value_counts()"
   ]
  },
  {
   "cell_type": "code",
   "execution_count": null,
   "id": "19a8ca4e",
   "metadata": {},
   "outputs": [],
   "source": [
    "census_df['Religion'].value_counts()"
   ]
  },
  {
   "cell_type": "code",
   "execution_count": null,
   "id": "b7e597d2",
   "metadata": {},
   "outputs": [],
   "source": [
    "# unemployed christians\n",
    "261/3015"
   ]
  },
  {
   "cell_type": "code",
   "execution_count": null,
   "id": "d236c2d2",
   "metadata": {},
   "outputs": [],
   "source": [
    "# unemployed muslims\n",
    "13/127"
   ]
  },
  {
   "cell_type": "code",
   "execution_count": null,
   "id": "da007112",
   "metadata": {},
   "outputs": [],
   "source": [
    "fig = plt.figure(figsize=(6, 4), dpi=200)\n",
    "l, r = fig.add_axes([0, 0, 0.8, 1]), fig.add_axes([0.95, 0, 0.8, 1])\n",
    "\n",
    "mal_ax = sns.barplot(y=unemp_male_age_distr.index, \n",
    "                     x=unemp_male_age_distr, \n",
    "                     color='brown',\n",
    "                    label='Male',\n",
    "                    lw=0,\n",
    "                    ax=l)\n",
    "\n",
    "fem_ax = sns.barplot(y=unemp_fem_age_distr.index, \n",
    "                     x=-1*unemp_fem_age_distr, \n",
    "                     color='darkblue',\n",
    "                    label='Female',\n",
    "                    lw=0,\n",
    "                    ax=l)\n",
    "\n",
    "sns.barplot(x=unemp_per_religion.index,\n",
    "            y=unemp_per_religion, \n",
    "            palette={'Christian': 'brown', \n",
    "                     'Unknown': 'darkblue',\n",
    "                    'Muslim': 'blue',\n",
    "                    'Sikh': 'darkred',\n",
    "                    'Bahai': 'red',\n",
    "                    'Jewish': 'red'},\n",
    "           ax=r)\n",
    "\n",
    "for i in range(unemp_age_cls_freq.shape[0]):\n",
    "    if unemp_male_age_distr[i] or unemp_fem_age_distr[i]:\n",
    "        mal_ax.text(unemp_male_age_distr[i] + 0.5, i, unemp_male_age_distr[i],\n",
    "                    fontweight='bold', size=8)\n",
    "        fem_ax.text(-1*unemp_fem_age_distr[i]-3, i, unemp_fem_age_distr[i], color='black',\n",
    "                    fontweight='bold', size=8)\n",
    "\n",
    "for i in range(unemp_per_religion.shape[0]):\n",
    "    r.text(i, unemp_per_religion[i]+1, unemp_per_religion[i],\n",
    "            fontweight='bold', size=10)\n",
    "    \n",
    "fem_ax.set(xticklabels=[60, 40, 20, 0, 20, 40, 60], xlabel='Head Count', ylabel='Age Bracket')\n",
    "fem_ax.set_yticklabels(fem_ax.get_yticklabels(), size=5)\n",
    "mal_ax.text(20, 1, 'Male', color='brown')\n",
    "fem_ax.text(-20, 1, 'Female', color='darkblue')\n",
    "\n",
    "l.set_xlim(-60, 60)\n",
    "\n",
    "l.set_title(\"Pyramid of Male/Female Unemployed Residents Per Age Bracket\")\n",
    "    \n",
    "    \n",
    "l.set_ylabel(\"Age Brackets\", size=15)\n",
    "l.set_xlabel(\"Count\", size=15)\n",
    "r.set_xlabel(\"Age Brackets\", size=15)\n",
    "r.set_ylabel(\"Population\", size=15)\n",
    "\n",
    "l.tick_params(labelsize=10)\n",
    "r.tick_params(labelsize=10)\n",
    "\n",
    "note = \"Unemployed (%):\\n\" +\\\n",
    "\"-\"*20 + f\"\\nChristian: {100*unemp_per_religion['Christian']/unemp_per_religion.sum(): .2f}\" +\\\n",
    "f\"\\nUnknown:{100 * unemp_per_religion['Unknown']/unemp_per_religion.sum(): .2f}\" +\\\n",
    "f\"\\nMuslim: {100*unemp_per_religion['Muslim']/unemp_per_religion.sum(): .2f}\" +\\\n",
    "f\"\\nOthers: {100 * (unemp_per_religion.loc[['Sikh', 'Bahai', 'Jewish']].sum())/unemp_per_religion.sum(): .2f}\"\n",
    "\n",
    "# plot summary\n",
    "r.text(3, 200, note,\n",
    "        bbox={'facecolor':'none', 'edgecolor':'red'},\n",
    "        size=8)\n",
    "\n",
    "r.set_title(\"Number of Unemployed Residents Across Religious Lines\")\n",
    "\n",
    "note = \"Unemployed (%):\\n\" +\\\n",
    "\"-\"*20 + f\"\\nFemales: {100*unemp_per_gender['F']/unemp_per_gender.sum(): .2f}\" +\\\n",
    "f\"\\nMales:{100 * unemp_per_gender['M']/unemp_per_gender.sum(): .2f}\"\n",
    "\n",
    "l.text(-50, 20, note,\n",
    "        bbox={'facecolor':'black', 'edgecolor':'none'},\n",
    "        size=8, weight='bold', color='white')\n",
    "\n",
    "plt.show()\n",
    "# plt.xticks(rotation=90);"
   ]
  },
  {
   "cell_type": "code",
   "execution_count": null,
   "id": "bc5c2b01",
   "metadata": {},
   "outputs": [],
   "source": [
    "fname = 'unemployment_trend.png'\n",
    "cd.fig_writer(fname, fig)"
   ]
  },
  {
   "cell_type": "markdown",
   "id": "06e2eebf",
   "metadata": {},
   "source": [
    "___"
   ]
  }
 ],
 "metadata": {
  "kernelspec": {
   "display_name": "Python 3 (ipykernel)",
   "language": "python",
   "name": "python3"
  },
  "language_info": {
   "codemirror_mode": {
    "name": "ipython",
    "version": 3
   },
   "file_extension": ".py",
   "mimetype": "text/x-python",
   "name": "python",
   "nbconvert_exporter": "python",
   "pygments_lexer": "ipython3",
   "version": "3.9.7"
  }
 },
 "nbformat": 4,
 "nbformat_minor": 5
}
